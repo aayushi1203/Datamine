{
 "cells": [
  {
   "cell_type": "markdown",
   "id": "be02a957-7133-4d02-818e-fedeb3cecb05",
   "metadata": {},
   "source": [
    "# Project 6 -- Aayushi Akhouri"
   ]
  },
  {
   "cell_type": "markdown",
   "id": "6180e742-8e39-4698-98ff-5b00c8cf8ea0",
   "metadata": {},
   "source": [
    "## Question 1"
   ]
  },
  {
   "cell_type": "code",
   "execution_count": 1,
   "id": "49445606-d363-41b4-b479-e319a9a84c01",
   "metadata": {},
   "outputs": [
    {
     "data": {
      "text/html": [
       "<ol class=list-inline>\n",
       "\t<li>0.367879441171442</li>\n",
       "\t<li>0.135335283236613</li>\n",
       "\t<li>0.0497870683678639</li>\n",
       "\t<li>0.0183156388887342</li>\n",
       "\t<li>0.00673794699908547</li>\n",
       "\t<li>0.00247875217666636</li>\n",
       "\t<li>0.000911881965554516</li>\n",
       "\t<li>0.000335462627902512</li>\n",
       "\t<li>0.00012340980408668</li>\n",
       "</ol>\n"
      ],
      "text/latex": [
       "\\begin{enumerate*}\n",
       "\\item 0.367879441171442\n",
       "\\item 0.135335283236613\n",
       "\\item 0.0497870683678639\n",
       "\\item 0.0183156388887342\n",
       "\\item 0.00673794699908547\n",
       "\\item 0.00247875217666636\n",
       "\\item 0.000911881965554516\n",
       "\\item 0.000335462627902512\n",
       "\\item 0.00012340980408668\n",
       "\\end{enumerate*}\n"
      ],
      "text/markdown": [
       "1. 0.367879441171442\n",
       "2. 0.135335283236613\n",
       "3. 0.0497870683678639\n",
       "4. 0.0183156388887342\n",
       "5. 0.00673794699908547\n",
       "6. 0.00247875217666636\n",
       "7. 0.000911881965554516\n",
       "8. 0.000335462627902512\n",
       "9. 0.00012340980408668\n",
       "\n",
       "\n"
      ],
      "text/plain": [
       "[1] 0.3678794412 0.1353352832 0.0497870684 0.0183156389 0.0067379470\n",
       "[6] 0.0024787522 0.0009118820 0.0003354626 0.0001234098"
      ]
     },
     "metadata": {},
     "output_type": "display_data"
    }
   ],
   "source": [
    "sapply(1:9 , function(x) {exp(-x)})"
   ]
  },
  {
   "cell_type": "code",
   "execution_count": 3,
   "id": "abd02aaa-6d3e-4859-8f14-51cd669cbba4",
   "metadata": {},
   "outputs": [
    {
     "data": {
      "text/html": [
       "<ol class=list-inline>\n",
       "\t<li>0.301029995663981</li>\n",
       "\t<li>0.176091259055681</li>\n",
       "\t<li>0.1249387366083</li>\n",
       "\t<li>0.0969100130080564</li>\n",
       "\t<li>0.0791812460476248</li>\n",
       "\t<li>0.0669467896306132</li>\n",
       "\t<li>0.0579919469776867</li>\n",
       "\t<li>0.0511525224473813</li>\n",
       "\t<li>0.0457574905606751</li>\n",
       "</ol>\n"
      ],
      "text/latex": [
       "\\begin{enumerate*}\n",
       "\\item 0.301029995663981\n",
       "\\item 0.176091259055681\n",
       "\\item 0.1249387366083\n",
       "\\item 0.0969100130080564\n",
       "\\item 0.0791812460476248\n",
       "\\item 0.0669467896306132\n",
       "\\item 0.0579919469776867\n",
       "\\item 0.0511525224473813\n",
       "\\item 0.0457574905606751\n",
       "\\end{enumerate*}\n"
      ],
      "text/markdown": [
       "1. 0.301029995663981\n",
       "2. 0.176091259055681\n",
       "3. 0.1249387366083\n",
       "4. 0.0969100130080564\n",
       "5. 0.0791812460476248\n",
       "6. 0.0669467896306132\n",
       "7. 0.0579919469776867\n",
       "8. 0.0511525224473813\n",
       "9. 0.0457574905606751\n",
       "\n",
       "\n"
      ],
      "text/plain": [
       "[1] 0.30103000 0.17609126 0.12493874 0.09691001 0.07918125 0.06694679 0.05799195\n",
       "[8] 0.05115252 0.04575749"
      ]
     },
     "metadata": {},
     "output_type": "display_data"
    }
   ],
   "source": [
    "sapply(1:9,function(d) {log((d+1)/d)/log(10)})"
   ]
  },
  {
   "cell_type": "code",
   "execution_count": 5,
   "id": "f1a6937b-7ddf-4688-aac0-29e5129306f8",
   "metadata": {},
   "outputs": [],
   "source": [
    "benfords_law<-function(d) {log((d+1)/d)/log(10)}"
   ]
  },
  {
   "cell_type": "code",
   "execution_count": 7,
   "id": "acd917d5-8150-44ae-baef-75b9c6aa4db1",
   "metadata": {},
   "outputs": [
    {
     "data": {
      "text/html": [
       "<ol class=list-inline>\n",
       "\t<li>0.301029995663981</li>\n",
       "\t<li>0.176091259055681</li>\n",
       "\t<li>0.1249387366083</li>\n",
       "\t<li>0.0969100130080564</li>\n",
       "\t<li>0.0791812460476248</li>\n",
       "\t<li>0.0669467896306132</li>\n",
       "\t<li>0.0579919469776867</li>\n",
       "\t<li>0.0511525224473813</li>\n",
       "\t<li>0.0457574905606751</li>\n",
       "</ol>\n"
      ],
      "text/latex": [
       "\\begin{enumerate*}\n",
       "\\item 0.301029995663981\n",
       "\\item 0.176091259055681\n",
       "\\item 0.1249387366083\n",
       "\\item 0.0969100130080564\n",
       "\\item 0.0791812460476248\n",
       "\\item 0.0669467896306132\n",
       "\\item 0.0579919469776867\n",
       "\\item 0.0511525224473813\n",
       "\\item 0.0457574905606751\n",
       "\\end{enumerate*}\n"
      ],
      "text/markdown": [
       "1. 0.301029995663981\n",
       "2. 0.176091259055681\n",
       "3. 0.1249387366083\n",
       "4. 0.0969100130080564\n",
       "5. 0.0791812460476248\n",
       "6. 0.0669467896306132\n",
       "7. 0.0579919469776867\n",
       "8. 0.0511525224473813\n",
       "9. 0.0457574905606751\n",
       "\n",
       "\n"
      ],
      "text/plain": [
       "[1] 0.30103000 0.17609126 0.12493874 0.09691001 0.07918125 0.06694679 0.05799195\n",
       "[8] 0.05115252 0.04575749"
      ]
     },
     "metadata": {},
     "output_type": "display_data"
    }
   ],
   "source": [
    "sapply(1:9,benfords_law)"
   ]
  },
  {
   "cell_type": "code",
   "execution_count": 8,
   "id": "ae90443f-5f66-48bc-9e5e-6029f8590e35",
   "metadata": {},
   "outputs": [
    {
     "data": {
      "text/html": [
       "0.0579919469776867"
      ],
      "text/latex": [
       "0.0579919469776867"
      ],
      "text/markdown": [
       "0.0579919469776867"
      ],
      "text/plain": [
       "[1] 0.05799195"
      ]
     },
     "metadata": {},
     "output_type": "display_data"
    }
   ],
   "source": [
    "benfords_law(7)"
   ]
  },
  {
   "cell_type": "markdown",
   "id": "b456e57c-4a12-464b-999a-ef2df5af80c1",
   "metadata": {},
   "source": [
    "Markdown notes and sentences and analysis written here."
   ]
  },
  {
   "cell_type": "markdown",
   "id": "fc601975-35ed-4680-a4e1-0273ee3cc047",
   "metadata": {},
   "source": [
    "## Question 2"
   ]
  },
  {
   "cell_type": "code",
   "execution_count": 12,
   "id": "a16336a1-1ef0-41e8-bc7c-49387db27497",
   "metadata": {},
   "outputs": [],
   "source": [
    "benfords_law<-function(d) {\n",
    "              if((d<1)|(d>9)) {stop(\"digit d is out of range\")}\n",
    "              log((d+1)/d)/log(10)\n",
    "        }"
   ]
  },
  {
   "cell_type": "code",
   "execution_count": 14,
   "id": "9ddbeb00-9e50-43ea-9c77-ada0de5d064b",
   "metadata": {},
   "outputs": [
    {
     "ename": "ERROR",
     "evalue": "Error in benfords_law(0): digit d is out of range\n",
     "output_type": "error",
     "traceback": [
      "Error in benfords_law(0): digit d is out of range\nTraceback:\n",
      "1. benfords_law(0)",
      "2. stop(\"digit d is out of range\")   # at line 2 of file <text>"
     ]
    }
   ],
   "source": [
    "benfords_law(0)"
   ]
  },
  {
   "cell_type": "markdown",
   "id": "14dc22d4-ddc3-41cc-a91a-cb0025bc0c80",
   "metadata": {},
   "source": [
    "Markdown notes and sentences and analysis written here."
   ]
  },
  {
   "cell_type": "markdown",
   "id": "8e586edd-ff26-4ce2-8f6b-2424b26f2929",
   "metadata": {},
   "source": [
    "## Question 3"
   ]
  },
  {
   "cell_type": "code",
   "execution_count": 15,
   "id": "bbe0f40d-9655-4653-9ca8-886bdb61cb91",
   "metadata": {},
   "outputs": [],
   "source": [
    "benfords_law_one_digit <-function(d) {\n",
    "              if((d<1)|(d>9)) {stop(\"digit d is out of range\")}\n",
    "              log((d+1)/d)/log(10)\n",
    "        }"
   ]
  },
  {
   "cell_type": "code",
   "execution_count": 16,
   "id": "f8bc7f88-9f81-470f-bbd6-d6a750a6e7ed",
   "metadata": {},
   "outputs": [],
   "source": [
    "benfords_law<-function(v) {\n",
    "               sapply(v, benfords_law_one_digit)\n",
    "         }"
   ]
  },
  {
   "cell_type": "code",
   "execution_count": 17,
   "id": "7c652a1d-ae24-44c2-a39e-e530099e24a0",
   "metadata": {},
   "outputs": [
    {
     "ename": "ERROR",
     "evalue": "Error in FUN(X[[i]], ...): digit d is out of range\n",
     "output_type": "error",
     "traceback": [
      "Error in FUN(X[[i]], ...): digit d is out of range\nTraceback:\n",
      "1. benfords_law(0:5)",
      "2. sapply(v, benfords_law_one_digit)   # at line 2 of file <text>",
      "3. lapply(X = X, FUN = FUN, ...)",
      "4. FUN(X[[i]], ...)",
      "5. stop(\"digit d is out of range\")   # at line 2 of file <text>"
     ]
    }
   ],
   "source": [
    "benfords_law(0:5)"
   ]
  },
  {
   "cell_type": "code",
   "execution_count": 18,
   "id": "8e1cdce5-acca-4b4a-9548-1ca74568d237",
   "metadata": {},
   "outputs": [
    {
     "data": {
      "text/html": [
       "<ol class=list-inline>\n",
       "\t<li>0.301029995663981</li>\n",
       "\t<li>0.176091259055681</li>\n",
       "\t<li>0.1249387366083</li>\n",
       "\t<li>0.0969100130080564</li>\n",
       "\t<li>0.0791812460476248</li>\n",
       "\t<li>0.0669467896306132</li>\n",
       "</ol>\n"
      ],
      "text/latex": [
       "\\begin{enumerate*}\n",
       "\\item 0.301029995663981\n",
       "\\item 0.176091259055681\n",
       "\\item 0.1249387366083\n",
       "\\item 0.0969100130080564\n",
       "\\item 0.0791812460476248\n",
       "\\item 0.0669467896306132\n",
       "\\end{enumerate*}\n"
      ],
      "text/markdown": [
       "1. 0.301029995663981\n",
       "2. 0.176091259055681\n",
       "3. 0.1249387366083\n",
       "4. 0.0969100130080564\n",
       "5. 0.0791812460476248\n",
       "6. 0.0669467896306132\n",
       "\n",
       "\n"
      ],
      "text/plain": [
       "[1] 0.30103000 0.17609126 0.12493874 0.09691001 0.07918125 0.06694679"
      ]
     },
     "metadata": {},
     "output_type": "display_data"
    }
   ],
   "source": [
    "benfords_law(1:6)"
   ]
  },
  {
   "cell_type": "markdown",
   "id": "47c6229f-35f7-400c-8366-c442baa5cf47",
   "metadata": {},
   "source": [
    "Markdown notes and sentences and analysis written here."
   ]
  },
  {
   "cell_type": "markdown",
   "id": "da22f29c-d245-4d2b-9fc1-ca14cb6087d9",
   "metadata": {},
   "source": [
    "## Question 4"
   ]
  },
  {
   "cell_type": "code",
   "execution_count": 32,
   "id": "8cffc767-d1c8-4d64-b7dc-f0d2ee8a80d1",
   "metadata": {},
   "outputs": [
    {
     "data": {
      "image/png": "[encoded data removed]",
      "text/plain": [
       "plot without title"
      ]
     },
     "metadata": {
      "image/png": {
       "height": 420,
       "width": 420
      }
     },
     "output_type": "display_data"
    }
   ],
   "source": [
    "baseBarplot <- barplot(benfords_law(1:9),xlab = \"Benford's Law\", \n",
    "                      ylab=\"Frequency\", ylim = c(0, .35))"
   ]
  },
  {
   "cell_type": "markdown",
   "id": "0d552245-b4d6-474a-9cc9-fa7b8e674d55",
   "metadata": {},
   "source": [
    "Markdown notes and sentences and analysis written here."
   ]
  },
  {
   "cell_type": "markdown",
   "id": "88c9cdac-3e92-498f-83fa-e089bfc44ac8",
   "metadata": {},
   "source": [
    "## Question 5"
   ]
  },
  {
   "cell_type": "code",
   "execution_count": 45,
   "id": "d370d7c9-06db-42b9-b75f-240481a5c491",
   "metadata": {},
   "outputs": [],
   "source": [
    " get_starting_digit<- function(x) {\n",
    "                        as.numeric(substr(x,1,1))\n",
    "                     }"
   ]
  },
  {
   "cell_type": "code",
   "execution_count": 46,
   "id": "de233d59-beff-421f-ab7c-9e415e849c4b",
   "metadata": {},
   "outputs": [
    {
     "data": {
      "text/html": [
       "<ol class=list-inline>\n",
       "\t<li>10</li>\n",
       "\t<li>2</li>\n",
       "\t<li>500</li>\n",
       "</ol>\n"
      ],
      "text/latex": [
       "\\begin{enumerate*}\n",
       "\\item 10\n",
       "\\item 2\n",
       "\\item 500\n",
       "\\end{enumerate*}\n"
      ],
      "text/markdown": [
       "1. 10\n",
       "2. 2\n",
       "3. 500\n",
       "\n",
       "\n"
      ],
      "text/plain": [
       "[1]  10   2 500"
      ]
     },
     "metadata": {},
     "output_type": "display_data"
    }
   ],
   "source": [
    "c(10,2,500)"
   ]
  },
  {
   "cell_type": "code",
   "execution_count": 48,
   "id": "1050915b-28ad-4eac-85ae-f05c616f3498",
   "metadata": {},
   "outputs": [
    {
     "data": {
      "text/html": [
       "<ol class=list-inline>\n",
       "\t<li>1</li>\n",
       "\t<li>2</li>\n",
       "\t<li>5</li>\n",
       "</ol>\n"
      ],
      "text/latex": [
       "\\begin{enumerate*}\n",
       "\\item 1\n",
       "\\item 2\n",
       "\\item 5\n",
       "\\end{enumerate*}\n"
      ],
      "text/markdown": [
       "1. 1\n",
       "2. 2\n",
       "3. 5\n",
       "\n",
       "\n"
      ],
      "text/plain": [
       "[1] 1 2 5"
      ]
     },
     "metadata": {},
     "output_type": "display_data"
    }
   ],
   "source": [
    "get_starting_digit(c(10,2,500))"
   ]
  },
  {
   "cell_type": "code",
   "execution_count": 51,
   "id": "3a062b25-1bfa-4d69-bc4d-22696e49f84a",
   "metadata": {},
   "outputs": [
    {
     "data": {
      "text/html": [
       "'numeric'"
      ],
      "text/latex": [
       "'numeric'"
      ],
      "text/markdown": [
       "'numeric'"
      ],
      "text/plain": [
       "[1] \"numeric\""
      ]
     },
     "metadata": {},
     "output_type": "display_data"
    }
   ],
   "source": [
    "class(get_starting_digit(c(10,2,500)))"
   ]
  },
  {
   "cell_type": "markdown",
   "id": "9fbf00fb-2418-460f-ae94-2a32b0c28952",
   "metadata": {},
   "source": [
    "Markdown notes and sentences and analysis written here."
   ]
  },
  {
   "cell_type": "code",
   "execution_count": 52,
   "id": "796bf8c6-ea1a-4b3f-a89c-47f4cdcaefb9",
   "metadata": {},
   "outputs": [
    {
     "name": "stdout",
     "output_type": "stream",
     "text": [
      " num [1:5] 1 2 5 6 1\n"
     ]
    }
   ],
   "source": [
    "str(get_starting_digit(c(100,2,50,689,1)))"
   ]
  },
  {
   "cell_type": "markdown",
   "id": "f76442d6-d02e-4f26-b9d6-c3183e1d6929",
   "metadata": {},
   "source": [
    "## Pledge\n",
    "\n",
    "By submitting this work I hereby pledge that this is my own, personal work. I've acknowledged in the designated place at the top of this file all sources that I used to complete said work, including but not limited to: online resources, books, and electronic communications. I've noted all collaboration with fellow students and/or TA's. I did not copy or plagiarize another's work.\n",
    "\n",
    "> As a Boilermaker pursuing academic excellence, I pledge to be honest and true in all that I do. Accountable together – We are Purdue."
   ]
  }
 ],
 "metadata": {
  "kernelspec": {
   "display_name": "f2021-s2022-r",
   "language": "R",
   "name": "tdm-brown-scratch-f2021-s2022-r"
  },
  "language_info": {
   "codemirror_mode": "r",
   "file_extension": ".r",
   "mimetype": "text/x-r-source",
   "name": "R",
   "pygments_lexer": "r",
   "version": "4.0.0"
  }
 },
 "nbformat": 4,
 "nbformat_minor": 5
}
