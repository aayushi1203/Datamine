{
 "cells": [
  {
   "cell_type": "markdown",
   "id": "be02a957-7133-4d02-818e-fedeb3cecb05",
   "metadata": {},
   "source": [
    "# Project 5 -- Aayushi Akhouri"
   ]
  },
  {
   "cell_type": "markdown",
   "id": "6180e742-8e39-4698-98ff-5b00c8cf8ea0",
   "metadata": {},
   "source": [
    "## Question 1"
   ]
  },
  {
   "cell_type": "code",
   "execution_count": 17,
   "id": "49445606-d363-41b4-b479-e319a9a84c01",
   "metadata": {},
   "outputs": [],
   "source": [
    "us_youtube<-read.csv(\"/depot/datamine/data/youtube/USvideos.csv\")"
   ]
  },
  {
   "cell_type": "code",
   "execution_count": 5,
   "id": "efc9d9e6-0a56-45df-9978-5c279d10b1ce",
   "metadata": {},
   "outputs": [
    {
     "data": {
      "text/html": [
       "<ol class=list-inline>\n",
       "\t<li>40949</li>\n",
       "\t<li>16</li>\n",
       "</ol>\n"
      ],
      "text/latex": [
       "\\begin{enumerate*}\n",
       "\\item 40949\n",
       "\\item 16\n",
       "\\end{enumerate*}\n"
      ],
      "text/markdown": [
       "1. 40949\n",
       "2. 16\n",
       "\n",
       "\n"
      ],
      "text/plain": [
       "[1] 40949    16"
      ]
     },
     "metadata": {},
     "output_type": "display_data"
    }
   ],
   "source": [
    "dim(us_youtube)"
   ]
  },
  {
   "cell_type": "code",
   "execution_count": 6,
   "id": "384c2497-7767-4bf1-8616-a01c6136062b",
   "metadata": {},
   "outputs": [],
   "source": [
    "library(lubridate)"
   ]
  },
  {
   "cell_type": "code",
   "execution_count": 8,
   "id": "5a22f151-37ae-4df2-b9d5-73212e9ed9c4",
   "metadata": {},
   "outputs": [],
   "source": [
    "us_youtube$trending_date <- ydm(us_youtube$trending_date)"
   ]
  },
  {
   "cell_type": "code",
   "execution_count": 10,
   "id": "51e49739-f3b7-497e-a559-983290f6592c",
   "metadata": {},
   "outputs": [
    {
     "data": {
      "text/html": [
       "<ol class=list-inline>\n",
       "\t<li><time datetime=\"2017-11-14\">2017-11-14</time></li>\n",
       "\t<li><time datetime=\"2017-11-14\">2017-11-14</time></li>\n",
       "\t<li><time datetime=\"2017-11-14\">2017-11-14</time></li>\n",
       "\t<li><time datetime=\"2017-11-14\">2017-11-14</time></li>\n",
       "\t<li><time datetime=\"2017-11-14\">2017-11-14</time></li>\n",
       "\t<li><time datetime=\"2017-11-14\">2017-11-14</time></li>\n",
       "</ol>\n"
      ],
      "text/latex": [
       "\\begin{enumerate*}\n",
       "\\item 2017-11-14\n",
       "\\item 2017-11-14\n",
       "\\item 2017-11-14\n",
       "\\item 2017-11-14\n",
       "\\item 2017-11-14\n",
       "\\item 2017-11-14\n",
       "\\end{enumerate*}\n"
      ],
      "text/markdown": [
       "1. 2017-11-14\n",
       "2. 2017-11-14\n",
       "3. 2017-11-14\n",
       "4. 2017-11-14\n",
       "5. 2017-11-14\n",
       "6. 2017-11-14\n",
       "\n",
       "\n"
      ],
      "text/plain": [
       "[1] \"2017-11-14\" \"2017-11-14\" \"2017-11-14\" \"2017-11-14\" \"2017-11-14\"\n",
       "[6] \"2017-11-14\""
      ]
     },
     "metadata": {},
     "output_type": "display_data"
    }
   ],
   "source": [
    "head(us_youtube$trending_date)"
   ]
  },
  {
   "cell_type": "code",
   "execution_count": 15,
   "id": "acf275d7-1fb8-405b-b84a-b84ff8f4d4ad",
   "metadata": {},
   "outputs": [],
   "source": [
    "us_youtube$trending_year <- year(us_youtube$trending_date)"
   ]
  },
  {
   "cell_type": "code",
   "execution_count": 18,
   "id": "b5f11cbb-25eb-4e6f-b94e-5cd43d59d1b5",
   "metadata": {},
   "outputs": [
    {
     "data": {
      "text/plain": [
       "\n",
       " 2017  2018 \n",
       " 9600 31349 "
      ]
     },
     "metadata": {},
     "output_type": "display_data"
    }
   ],
   "source": [
    "table(us_youtube$trending_year)"
   ]
  },
  {
   "cell_type": "code",
   "execution_count": 22,
   "id": "a916fc7d-9fd3-4d2a-9ee6-27951de844d7",
   "metadata": {},
   "outputs": [
    {
     "data": {
      "text/html": [
       "<ol class=list-inline>\n",
       "\t<li>2017</li>\n",
       "\t<li>2018</li>\n",
       "</ol>\n"
      ],
      "text/latex": [
       "\\begin{enumerate*}\n",
       "\\item 2017\n",
       "\\item 2018\n",
       "\\end{enumerate*}\n"
      ],
      "text/markdown": [
       "1. 2017\n",
       "2. 2018\n",
       "\n",
       "\n"
      ],
      "text/plain": [
       "[1] 2017 2018"
      ]
     },
     "metadata": {},
     "output_type": "display_data"
    }
   ],
   "source": [
    "sort(unique(us_youtube$trending_year))"
   ]
  },
  {
   "cell_type": "code",
   "execution_count": 24,
   "id": "16166bcf-10d5-40b0-9a32-ee6a378b9a4f",
   "metadata": {},
   "outputs": [
    {
     "data": {
      "text/html": [
       "'double'"
      ],
      "text/latex": [
       "'double'"
      ],
      "text/markdown": [
       "'double'"
      ],
      "text/plain": [
       "[1] \"double\""
      ]
     },
     "metadata": {},
     "output_type": "display_data"
    }
   ],
   "source": [
    "typeof(us_youtube$trending_year)"
   ]
  },
  {
   "cell_type": "code",
   "execution_count": 12,
   "id": "308b32e7-937f-4896-b448-2419683155d0",
   "metadata": {},
   "outputs": [],
   "source": [
    "us_youtube$publish_time <- ymd_hms(us_youtube$publish_time)"
   ]
  },
  {
   "cell_type": "code",
   "execution_count": 13,
   "id": "8d64e4bc-93de-4c4f-aa8a-0e8c319410da",
   "metadata": {},
   "outputs": [
    {
     "data": {
      "text/plain": [
       "[1] \"2017-11-13 17:13:01 UTC\" \"2017-11-13 07:30:00 UTC\"\n",
       "[3] \"2017-11-12 19:05:24 UTC\" \"2017-11-13 11:00:04 UTC\"\n",
       "[5] \"2017-11-12 18:01:41 UTC\" \"2017-11-13 19:07:23 UTC\""
      ]
     },
     "metadata": {},
     "output_type": "display_data"
    }
   ],
   "source": [
    "head(us_youtube$publish_time)"
   ]
  },
  {
   "cell_type": "code",
   "execution_count": 20,
   "id": "f8a3300b-85f2-40fe-91cd-3defec777f7c",
   "metadata": {},
   "outputs": [],
   "source": [
    "us_youtube$publish_year <- year(us_youtube$publish_time)"
   ]
  },
  {
   "cell_type": "code",
   "execution_count": 21,
   "id": "52c2fd25-8ead-4edd-aea5-bbb202e45e4b",
   "metadata": {},
   "outputs": [
    {
     "data": {
      "text/plain": [
       "\n",
       " 2006  2008  2009  2010  2011  2012  2013  2014  2015  2016  2017  2018 \n",
       "    1    11    14    19    27    24    44    32    35    35 10428 30279 "
      ]
     },
     "metadata": {},
     "output_type": "display_data"
    }
   ],
   "source": [
    "table(us_youtube$publish_year)"
   ]
  },
  {
   "cell_type": "code",
   "execution_count": 23,
   "id": "e98008cb-34af-4eb0-a017-2598c99abfb0",
   "metadata": {},
   "outputs": [
    {
     "data": {
      "text/html": [
       "<ol class=list-inline>\n",
       "\t<li>2006</li>\n",
       "\t<li>2008</li>\n",
       "\t<li>2009</li>\n",
       "\t<li>2010</li>\n",
       "\t<li>2011</li>\n",
       "\t<li>2012</li>\n",
       "\t<li>2013</li>\n",
       "\t<li>2014</li>\n",
       "\t<li>2015</li>\n",
       "\t<li>2016</li>\n",
       "\t<li>2017</li>\n",
       "\t<li>2018</li>\n",
       "</ol>\n"
      ],
      "text/latex": [
       "\\begin{enumerate*}\n",
       "\\item 2006\n",
       "\\item 2008\n",
       "\\item 2009\n",
       "\\item 2010\n",
       "\\item 2011\n",
       "\\item 2012\n",
       "\\item 2013\n",
       "\\item 2014\n",
       "\\item 2015\n",
       "\\item 2016\n",
       "\\item 2017\n",
       "\\item 2018\n",
       "\\end{enumerate*}\n"
      ],
      "text/markdown": [
       "1. 2006\n",
       "2. 2008\n",
       "3. 2009\n",
       "4. 2010\n",
       "5. 2011\n",
       "6. 2012\n",
       "7. 2013\n",
       "8. 2014\n",
       "9. 2015\n",
       "10. 2016\n",
       "11. 2017\n",
       "12. 2018\n",
       "\n",
       "\n"
      ],
      "text/plain": [
       " [1] 2006 2008 2009 2010 2011 2012 2013 2014 2015 2016 2017 2018"
      ]
     },
     "metadata": {},
     "output_type": "display_data"
    }
   ],
   "source": [
    "sort(unique(us_youtube$publish_year))"
   ]
  },
  {
   "cell_type": "code",
   "execution_count": 27,
   "id": "fbd8edb4-9b8e-43b4-b430-7a286e19b80f",
   "metadata": {},
   "outputs": [
    {
     "data": {
      "text/html": [
       "'double'"
      ],
      "text/latex": [
       "'double'"
      ],
      "text/markdown": [
       "'double'"
      ],
      "text/plain": [
       "[1] \"double\""
      ]
     },
     "metadata": {},
     "output_type": "display_data"
    }
   ],
   "source": [
    "typeof(unique(us_youtube$publish_year))"
   ]
  },
  {
   "cell_type": "code",
   "execution_count": 34,
   "id": "7f458da2-dbf8-45ea-9f69-522c1b5b82a4",
   "metadata": {},
   "outputs": [],
   "source": [
    "us_youtube<-read.csv(\"/depot/datamine/data/youtube/USvideos.csv\")"
   ]
  },
  {
   "cell_type": "code",
   "execution_count": 31,
   "id": "25e931c0-24cf-424e-ab65-b4454f3bfa94",
   "metadata": {},
   "outputs": [
    {
     "data": {
      "text/plain": [
       "\n",
       " 2017  2018 \n",
       " 9600 31349 "
      ]
     },
     "metadata": {},
     "output_type": "display_data"
    }
   ],
   "source": [
    "table(as.numeric(paste0(\"20\",substr(us_youtube$trending_date, 1,2))))"
   ]
  },
  {
   "cell_type": "code",
   "execution_count": 40,
   "id": "35aafbb8-288e-4d36-88ca-aeb830611d14",
   "metadata": {},
   "outputs": [
    {
     "data": {
      "text/plain": [
       "\n",
       " 2006  2008  2009  2010  2011  2012  2013  2014  2015  2016  2017  2018 \n",
       "    1    11    14    19    27    24    44    32    35    35 10428 30279 "
      ]
     },
     "metadata": {},
     "output_type": "display_data"
    }
   ],
   "source": [
    "table(as.numeric(substr(us_youtube$publish_time,1,4)))"
   ]
  },
  {
   "cell_type": "markdown",
   "id": "15e1a501-3b1a-4870-a8bc-afab699a38d5",
   "metadata": {},
   "source": [
    "#The type of the coulmns is double.\n",
    "All the functions are vectorised.\n",
    "I found the first method easier because it involved funtions we have already worked with."
   ]
  },
  {
   "cell_type": "markdown",
   "id": "fc601975-35ed-4680-a4e1-0273ee3cc047",
   "metadata": {},
   "source": [
    "## Question 2"
   ]
  },
  {
   "cell_type": "code",
   "execution_count": 18,
   "id": "113d4d44-593b-473a-95de-ca73ae682b23",
   "metadata": {},
   "outputs": [],
   "source": [
    "us_youtube<-read.csv(\"/depot/datamine/data/youtube/USvideos.csv\")"
   ]
  },
  {
   "cell_type": "code",
   "execution_count": 3,
   "id": "a16336a1-1ef0-41e8-bc7c-49387db27497",
   "metadata": {},
   "outputs": [],
   "source": [
    "ca_youtube$country_code<- \"CA\""
   ]
  },
  {
   "cell_type": "code",
   "execution_count": 4,
   "id": "416a3260-aac5-45f6-9951-b4dbfc73a3b4",
   "metadata": {},
   "outputs": [
    {
     "data": {
      "text/html": [
       "<ol class=list-inline>\n",
       "\t<li>40881</li>\n",
       "\t<li>17</li>\n",
       "</ol>\n"
      ],
      "text/latex": [
       "\\begin{enumerate*}\n",
       "\\item 40881\n",
       "\\item 17\n",
       "\\end{enumerate*}\n"
      ],
      "text/markdown": [
       "1. 40881\n",
       "2. 17\n",
       "\n",
       "\n"
      ],
      "text/plain": [
       "[1] 40881    17"
      ]
     },
     "metadata": {},
     "output_type": "display_data"
    }
   ],
   "source": [
    "dim(ca_youtube)"
   ]
  },
  {
   "cell_type": "code",
   "execution_count": 5,
   "id": "9707411d-9b9b-49e5-b634-c6482b463cf2",
   "metadata": {},
   "outputs": [],
   "source": [
    "getdataframe <- function(mycountry) {\n",
    "    myDF <- read.csv(paste0(\"/depot/datamine/data/youtube/\", mycountry, \"videos.csv\"))\n",
    "    myDF$country_code <- mycountry\n",
    "    return(myDF)\n",
    "}"
   ]
  },
  {
   "cell_type": "code",
   "execution_count": 8,
   "id": "6ec23394-5b70-48ec-b49c-913bc7d41d12",
   "metadata": {},
   "outputs": [
    {
     "data": {
      "text/html": [
       "<ol class=list-inline>\n",
       "\t<li>40881</li>\n",
       "\t<li>17</li>\n",
       "</ol>\n"
      ],
      "text/latex": [
       "\\begin{enumerate*}\n",
       "\\item 40881\n",
       "\\item 17\n",
       "\\end{enumerate*}\n"
      ],
      "text/markdown": [
       "1. 40881\n",
       "2. 17\n",
       "\n",
       "\n"
      ],
      "text/plain": [
       "[1] 40881    17"
      ]
     },
     "metadata": {},
     "output_type": "display_data"
    }
   ],
   "source": [
    "dim(getdataframe(\"CA\"))"
   ]
  },
  {
   "cell_type": "code",
   "execution_count": 11,
   "id": "e6b632f5-2758-4c0d-aa4c-59772e08ff4c",
   "metadata": {},
   "outputs": [],
   "source": [
    "countries <- c('CA', 'DE', 'FR', 'GB', 'IN', 'JP', 'KR', 'MX', 'RU', 'US')"
   ]
  },
  {
   "cell_type": "code",
   "execution_count": 12,
   "id": "a5121708-fd36-4368-9fba-2531818b7a40",
   "metadata": {},
   "outputs": [],
   "source": [
    "myresults<-lapply(countries, getdataframe)"
   ]
  },
  {
   "cell_type": "code",
   "execution_count": 13,
   "id": "057b5295-a52e-41d8-ab94-745e6f49c1b6",
   "metadata": {},
   "outputs": [
    {
     "data": {
      "text/html": [
       "<ol class=list-inline>\n",
       "\t<li>40881</li>\n",
       "\t<li>17</li>\n",
       "</ol>\n"
      ],
      "text/latex": [
       "\\begin{enumerate*}\n",
       "\\item 40881\n",
       "\\item 17\n",
       "\\end{enumerate*}\n"
      ],
      "text/markdown": [
       "1. 40881\n",
       "2. 17\n",
       "\n",
       "\n"
      ],
      "text/plain": [
       "[1] 40881    17"
      ]
     },
     "metadata": {},
     "output_type": "display_data"
    }
   ],
   "source": [
    "dim(myresults[[1]])"
   ]
  },
  {
   "cell_type": "code",
   "execution_count": 15,
   "id": "7cff3d9e-9145-4b93-b661-9177816f3baf",
   "metadata": {},
   "outputs": [],
   "source": [
    "yt<-do.call(rbind,myresults)"
   ]
  },
  {
   "cell_type": "code",
   "execution_count": 16,
   "id": "b1e9953f-1adc-413d-9ce3-456cd7e3a84f",
   "metadata": {},
   "outputs": [
    {
     "data": {
      "text/html": [
       "<ol class=list-inline>\n",
       "\t<li>375942</li>\n",
       "\t<li>17</li>\n",
       "</ol>\n"
      ],
      "text/latex": [
       "\\begin{enumerate*}\n",
       "\\item 375942\n",
       "\\item 17\n",
       "\\end{enumerate*}\n"
      ],
      "text/markdown": [
       "1. 375942\n",
       "2. 17\n",
       "\n",
       "\n"
      ],
      "text/plain": [
       "[1] 375942     17"
      ]
     },
     "metadata": {},
     "output_type": "display_data"
    }
   ],
   "source": [
    "dim(yt)"
   ]
  },
  {
   "cell_type": "markdown",
   "id": "14dc22d4-ddc3-41cc-a91a-cb0025bc0c80",
   "metadata": {},
   "source": [
    "Markdown notes and sentences and analysis written here."
   ]
  },
  {
   "cell_type": "markdown",
   "id": "8e586edd-ff26-4ce2-8f6b-2424b26f2929",
   "metadata": {},
   "source": [
    "## Question 3"
   ]
  },
  {
   "cell_type": "code",
   "execution_count": 1,
   "id": "e2ddeaeb-e438-4e4c-a347-7800f6354047",
   "metadata": {},
   "outputs": [],
   "source": [
    "us_youtube<-read.csv(\"/depot/datamine/data/youtube/USvideos.csv\")"
   ]
  },
  {
   "cell_type": "code",
   "execution_count": 2,
   "id": "30bc627a-0a04-4c91-bf22-e8caaa45816a",
   "metadata": {},
   "outputs": [],
   "source": [
    "getdataframe <- function(mycountry) {\n",
    "    myDF <- read.csv(paste0(\"/depot/datamine/data/youtube/\", mycountry, \"videos.csv\"))\n",
    "    myDF$country_code <- mycountry\n",
    "    return(myDF)\n",
    "}"
   ]
  },
  {
   "cell_type": "code",
   "execution_count": 4,
   "id": "762f4132-5afa-49c6-91f0-71987773223a",
   "metadata": {},
   "outputs": [],
   "source": [
    "countries <- c('CA', 'DE', 'FR', 'GB', 'IN', 'JP', 'KR', 'MX', 'RU', 'US')"
   ]
  },
  {
   "cell_type": "code",
   "execution_count": null,
   "id": "c5f8e6e1-a08a-499a-b1e4-ae5ef266cb9f",
   "metadata": {},
   "outputs": [],
   "source": [
    "myresults<-lapply(countries, getdataframe)"
   ]
  },
  {
   "cell_type": "code",
   "execution_count": 6,
   "id": "defea0a4-d1d3-4888-b871-873a21cb4c86",
   "metadata": {},
   "outputs": [],
   "source": [
    "yt<-do.call(rbind,myresults)"
   ]
  },
  {
   "cell_type": "code",
   "execution_count": 8,
   "id": "9ad5e3c4-465b-4ac6-b4f6-f6a853206780",
   "metadata": {},
   "outputs": [
    {
     "name": "stderr",
     "output_type": "stream",
     "text": [
      "\n",
      "Attaching package: ‘lubridate’\n",
      "\n",
      "\n",
      "The following objects are masked from ‘package:base’:\n",
      "\n",
      "    date, intersect, setdiff, union\n",
      "\n",
      "\n"
     ]
    }
   ],
   "source": [
    "library(lubridate)"
   ]
  },
  {
   "cell_type": "code",
   "execution_count": 21,
   "id": "b280b862-7dde-4b3e-b863-92247703d348",
   "metadata": {},
   "outputs": [],
   "source": [
    "yt$publish_year <- year(yt$publish_time)"
   ]
  },
  {
   "cell_type": "code",
   "execution_count": 22,
   "id": "4201ec1f-1e8e-415c-8d9b-aa8f689556cc",
   "metadata": {},
   "outputs": [
    {
     "data": {
      "text/plain": [
       "\n",
       "  2006   2007   2008   2009   2010   2011   2012   2013   2014   2015   2016 \n",
       "     1     37     59     32     62    117     43    127    121    159    153 \n",
       "  2017   2018 \n",
       " 88865 286166 "
      ]
     },
     "metadata": {},
     "output_type": "display_data"
    }
   ],
   "source": [
    "table(yt$publish_year)"
   ]
  },
  {
   "cell_type": "code",
   "execution_count": 25,
   "id": "25109349-e264-49b6-9afc-8453e519489a",
   "metadata": {},
   "outputs": [],
   "source": [
    "yt$trending_year <- year(yt$trending_date)"
   ]
  },
  {
   "cell_type": "code",
   "execution_count": 27,
   "id": "1d6b4423-a83d-4c16-8753-baf2016d1787",
   "metadata": {},
   "outputs": [
    {
     "data": {
      "text/plain": [
       "\n",
       "  2017   2018 \n",
       " 84424 291518 "
      ]
     },
     "metadata": {},
     "output_type": "display_data"
    }
   ],
   "source": [
    "table(yt$trending_year) "
   ]
  },
  {
   "cell_type": "code",
   "execution_count": 30,
   "id": "3fb1aa8a-564c-4482-9a2a-bd28390e6bad",
   "metadata": {},
   "outputs": [
    {
     "data": {
      "text/html": [
       "2018"
      ],
      "text/latex": [
       "2018"
      ],
      "text/markdown": [
       "2018"
      ],
      "text/plain": [
       "[1] 2018"
      ]
     },
     "metadata": {},
     "output_type": "display_data"
    }
   ],
   "source": [
    "yt$trending_year[yt$publish_year == 2006]"
   ]
  },
  {
   "cell_type": "code",
   "execution_count": 32,
   "id": "c64e8d39-77e4-4991-9d37-ae97ba897765",
   "metadata": {},
   "outputs": [
    {
     "data": {
      "text/html": [
       "<table>\n",
       "<caption>A data.frame: 1 x 19</caption>\n",
       "<thead>\n",
       "\t<tr><th></th><th scope=col>video_id</th><th scope=col>trending_date</th><th scope=col>title</th><th scope=col>channel_title</th><th scope=col>category_id</th><th scope=col>publish_time</th><th scope=col>tags</th><th scope=col>views</th><th scope=col>likes</th><th scope=col>dislikes</th><th scope=col>comment_count</th><th scope=col>thumbnail_link</th><th scope=col>comments_disabled</th><th scope=col>ratings_disabled</th><th scope=col>video_error_or_removed</th><th scope=col>description</th><th scope=col>country_code</th><th scope=col>trending_year</th><th scope=col>publish_year</th></tr>\n",
       "\t<tr><th></th><th scope=col>&lt;chr&gt;</th><th scope=col>&lt;date&gt;</th><th scope=col>&lt;chr&gt;</th><th scope=col>&lt;chr&gt;</th><th scope=col>&lt;int&gt;</th><th scope=col>&lt;dttm&gt;</th><th scope=col>&lt;chr&gt;</th><th scope=col>&lt;int&gt;</th><th scope=col>&lt;int&gt;</th><th scope=col>&lt;int&gt;</th><th scope=col>&lt;int&gt;</th><th scope=col>&lt;chr&gt;</th><th scope=col>&lt;chr&gt;</th><th scope=col>&lt;chr&gt;</th><th scope=col>&lt;chr&gt;</th><th scope=col>&lt;chr&gt;</th><th scope=col>&lt;chr&gt;</th><th scope=col>&lt;dbl&gt;</th><th scope=col>&lt;dbl&gt;</th></tr>\n",
       "</thead>\n",
       "<tbody>\n",
       "\t<tr><th scope=row>351288</th><td>MJO3FmmFuh4</td><td>2018-02-05</td><td>Budweiser - Original Whazzup? ad</td><td>dannotv</td><td>24</td><td>2006-07-23 08:24:11</td><td>Budweiser|Bud|Whazzup|ad</td><td>258506</td><td>459</td><td>152</td><td>82</td><td>https://i.ytimg.com/vi/MJO3FmmFuh4/default.jpg</td><td>False</td><td>False</td><td>False</td><td>Original Whazzup ad - however, there is a little *glitch* in the middle...sorry.</td><td>US</td><td>2018</td><td>2006</td></tr>\n",
       "</tbody>\n",
       "</table>\n"
      ],
      "text/latex": [
       "A data.frame: 1 x 19\n",
       "\\begin{tabular}{r|lllllllllllllllllll}\n",
       "  & video\\_id & trending\\_date & title & channel\\_title & category\\_id & publish\\_time & tags & views & likes & dislikes & comment\\_count & thumbnail\\_link & comments\\_disabled & ratings\\_disabled & video\\_error\\_or\\_removed & description & country\\_code & trending\\_year & publish\\_year\\\\\n",
       "  & <chr> & <date> & <chr> & <chr> & <int> & <dttm> & <chr> & <int> & <int> & <int> & <int> & <chr> & <chr> & <chr> & <chr> & <chr> & <chr> & <dbl> & <dbl>\\\\\n",
       "\\hline\n",
       "\t351288 & MJO3FmmFuh4 & 2018-02-05 & Budweiser - Original Whazzup? ad & dannotv & 24 & 2006-07-23 08:24:11 & Budweiser\\textbar{}Bud\\textbar{}Whazzup\\textbar{}ad & 258506 & 459 & 152 & 82 & https://i.ytimg.com/vi/MJO3FmmFuh4/default.jpg & False & False & False & Original Whazzup ad - however, there is a little *glitch* in the middle...sorry. & US & 2018 & 2006\\\\\n",
       "\\end{tabular}\n"
      ],
      "text/markdown": [
       "\n",
       "A data.frame: 1 x 19\n",
       "\n",
       "| <!--/--> | video_id &lt;chr&gt; | trending_date &lt;date&gt; | title &lt;chr&gt; | channel_title &lt;chr&gt; | category_id &lt;int&gt; | publish_time &lt;dttm&gt; | tags &lt;chr&gt; | views &lt;int&gt; | likes &lt;int&gt; | dislikes &lt;int&gt; | comment_count &lt;int&gt; | thumbnail_link &lt;chr&gt; | comments_disabled &lt;chr&gt; | ratings_disabled &lt;chr&gt; | video_error_or_removed &lt;chr&gt; | description &lt;chr&gt; | country_code &lt;chr&gt; | trending_year &lt;dbl&gt; | publish_year &lt;dbl&gt; |\n",
       "|---|---|---|---|---|---|---|---|---|---|---|---|---|---|---|---|---|---|---|---|\n",
       "| 351288 | MJO3FmmFuh4 | 2018-02-05 | Budweiser - Original Whazzup? ad | dannotv | 24 | 2006-07-23 08:24:11 | Budweiser|Bud|Whazzup|ad | 258506 | 459 | 152 | 82 | https://i.ytimg.com/vi/MJO3FmmFuh4/default.jpg | False | False | False | Original Whazzup ad - however, there is a little *glitch* in the middle...sorry. | US | 2018 | 2006 |\n",
       "\n"
      ],
      "text/plain": [
       "       video_id    trending_date title                            channel_title\n",
       "351288 MJO3FmmFuh4 2018-02-05    Budweiser - Original Whazzup? ad dannotv      \n",
       "       category_id publish_time        tags                     views  likes\n",
       "351288 24          2006-07-23 08:24:11 Budweiser|Bud|Whazzup|ad 258506 459  \n",
       "       dislikes comment_count thumbnail_link                                \n",
       "351288 152      82            https://i.ytimg.com/vi/MJO3FmmFuh4/default.jpg\n",
       "       comments_disabled ratings_disabled video_error_or_removed\n",
       "351288 False             False            False                 \n",
       "       description                                                                     \n",
       "351288 Original Whazzup ad - however, there is a little *glitch* in the middle...sorry.\n",
       "       country_code trending_year publish_year\n",
       "351288 US           2018          2006        "
      ]
     },
     "metadata": {},
     "output_type": "display_data"
    }
   ],
   "source": [
    "yt[yt$publish_year == 2006,]"
   ]
  },
  {
   "cell_type": "markdown",
   "id": "47c6229f-35f7-400c-8366-c442baa5cf47",
   "metadata": {},
   "source": [
    "The video Budweiser-Original Wazzup? took the the longest time to trend. It took 12 years to trend\n",
    ".I have not seen the video"
   ]
  },
  {
   "cell_type": "markdown",
   "id": "da22f29c-d245-4d2b-9fc1-ca14cb6087d9",
   "metadata": {},
   "source": [
    "## Question 4"
   ]
  },
  {
   "cell_type": "code",
   "execution_count": 33,
   "id": "8cffc767-d1c8-4d64-b7dc-f0d2ee8a80d1",
   "metadata": {},
   "outputs": [
    {
     "data": {
      "text/html": [
       "'character'"
      ],
      "text/latex": [
       "'character'"
      ],
      "text/markdown": [
       "'character'"
      ],
      "text/plain": [
       "[1] \"character\""
      ]
     },
     "metadata": {},
     "output_type": "display_data"
    }
   ],
   "source": [
    "class(yt$ratings_disabled)"
   ]
  },
  {
   "cell_type": "code",
   "execution_count": 34,
   "id": "b7f09431-eb8c-4f6c-8704-808d16ab61d1",
   "metadata": {},
   "outputs": [
    {
     "data": {
      "text/html": [
       "'integer'"
      ],
      "text/latex": [
       "'integer'"
      ],
      "text/markdown": [
       "'integer'"
      ],
      "text/plain": [
       "[1] \"integer\""
      ]
     },
     "metadata": {},
     "output_type": "display_data"
    }
   ],
   "source": [
    "class(yt$views)"
   ]
  },
  {
   "cell_type": "code",
   "execution_count": 43,
   "id": "1ca6b52a-ec00-46a3-9549-c2e237b70f8f",
   "metadata": {},
   "outputs": [],
   "source": [
    "yt$ratings_disabled_fixed <- NA"
   ]
  },
  {
   "cell_type": "code",
   "execution_count": 48,
   "id": "aaf78cfc-93bb-486d-8d37-e9dcd0ac78e1",
   "metadata": {},
   "outputs": [],
   "source": [
    "yt$ratings_disabled_fixed [yt$ratings_disabled ==\"FALSE\"]<-FALSE"
   ]
  },
  {
   "cell_type": "code",
   "execution_count": 49,
   "id": "0dcf3729-707a-4a86-9948-eb5b055b5048",
   "metadata": {},
   "outputs": [],
   "source": [
    "yt$ratings_disabled_fixed [yt$ratings_disabled ==\"False\"]<-FALSE"
   ]
  },
  {
   "cell_type": "code",
   "execution_count": 50,
   "id": "af572bf3-cbf4-4e3b-a8e8-96d11f791af0",
   "metadata": {},
   "outputs": [],
   "source": [
    "yt$ratings_disabled_fixed [yt$ratings_disabled ==\"TRUE\"]<-TRUE"
   ]
  },
  {
   "cell_type": "code",
   "execution_count": 51,
   "id": "af8900c7-a2dc-42f3-a6ad-9585fb71a871",
   "metadata": {},
   "outputs": [],
   "source": [
    "yt$ratings_disabled_fixed [yt$ratings_disabled ==\"True\"]<-TRUE"
   ]
  },
  {
   "cell_type": "code",
   "execution_count": 52,
   "id": "612bf9de-3b4a-42a7-b0c4-9552fdb3f216",
   "metadata": {},
   "outputs": [
    {
     "data": {
      "text/html": [
       "<dl class=dl-horizontal>\n",
       "\t<dt>FALSE</dt>\n",
       "\t\t<dd>1338147.56100631</dd>\n",
       "\t<dt>TRUE</dt>\n",
       "\t\t<dd>742478.86302682</dd>\n",
       "</dl>\n"
      ],
      "text/latex": [
       "\\begin{description*}\n",
       "\\item[FALSE] 1338147.56100631\n",
       "\\item[TRUE] 742478.86302682\n",
       "\\end{description*}\n"
      ],
      "text/markdown": [
       "FALSE\n",
       ":   1338147.56100631TRUE\n",
       ":   742478.86302682\n",
       "\n"
      ],
      "text/plain": [
       "    FALSE      TRUE \n",
       "1338147.6  742478.9 "
      ]
     },
     "metadata": {},
     "output_type": "display_data"
    }
   ],
   "source": [
    "tapply(yt$views, yt$ratings_disabled_fixed, mean)"
   ]
  },
  {
   "cell_type": "markdown",
   "id": "0d552245-b4d6-474a-9cc9-fa7b8e674d55",
   "metadata": {},
   "source": [
    "Disabling ratings seem to increase views as people would not have a pre concieved notion about the video"
   ]
  },
  {
   "cell_type": "markdown",
   "id": "88c9cdac-3e92-498f-83fa-e089bfc44ac8",
   "metadata": {},
   "source": [
    "## Question 5"
   ]
  },
  {
   "cell_type": "code",
   "execution_count": 53,
   "id": "d370d7c9-06db-42b9-b75f-240481a5c491",
   "metadata": {},
   "outputs": [],
   "source": [
    "yt$balance<-yt$likes-yt$dislikes"
   ]
  },
  {
   "cell_type": "code",
   "execution_count": 54,
   "id": "11fbf935-6363-4eb0-b9a9-b15af3236213",
   "metadata": {},
   "outputs": [],
   "source": [
    "yt$positive_balance<-NA"
   ]
  },
  {
   "cell_type": "code",
   "execution_count": 55,
   "id": "ab8e74cb-a2b3-4227-8938-f369c8304629",
   "metadata": {},
   "outputs": [],
   "source": [
    "yt$positive_balance[yt$balance>0]<-TRUE"
   ]
  },
  {
   "cell_type": "code",
   "execution_count": 57,
   "id": "5ea0e785-99ea-40f6-bb62-f88c44dff9bb",
   "metadata": {},
   "outputs": [],
   "source": [
    "yt$positive_balance[yt$balance<=0]<-FALSE"
   ]
  },
  {
   "cell_type": "code",
   "execution_count": 58,
   "id": "3738af09-76d4-4b6d-ae94-0b6f412ae63e",
   "metadata": {},
   "outputs": [
    {
     "data": {
      "text/plain": [
       "\n",
       " FALSE   TRUE \n",
       " 14359 361583 "
      ]
     },
     "metadata": {},
     "output_type": "display_data"
    }
   ],
   "source": [
    "table(yt$positive_balance)"
   ]
  },
  {
   "cell_type": "markdown",
   "id": "9fbf00fb-2418-460f-ae94-2a32b0c28952",
   "metadata": {},
   "source": [
    "361583 videos have a positive balance"
   ]
  },
  {
   "cell_type": "markdown",
   "id": "bdc34471-2a5d-46fe-a359-780bf5c1463a",
   "metadata": {},
   "source": [
    "## Question 6"
   ]
  },
  {
   "cell_type": "code",
   "execution_count": 61,
   "id": "3a85c8ab-00ed-4e87-a5c9-f03552ba712c",
   "metadata": {},
   "outputs": [
    {
     "data": {
      "text/html": [
       "<dl class=dl-horizontal>\n",
       "\t<dt>FALSE</dt>\n",
       "\t\t<dd>44034648</dd>\n",
       "\t<dt>TRUE</dt>\n",
       "\t\t<dd>1555138041</dd>\n",
       "</dl>\n"
      ],
      "text/latex": [
       "\\begin{description*}\n",
       "\\item[FALSE] 44034648\n",
       "\\item[TRUE] 1555138041\n",
       "\\end{description*}\n"
      ],
      "text/markdown": [
       "FALSE\n",
       ":   44034648TRUE\n",
       ":   1555138041\n",
       "\n"
      ],
      "text/plain": [
       "     FALSE       TRUE \n",
       "  44034648 1555138041 "
      ]
     },
     "metadata": {},
     "output_type": "display_data"
    }
   ],
   "source": [
    "tapply(yt$comment_count, yt$positive_balance,sum)"
   ]
  },
  {
   "cell_type": "code",
   "execution_count": 62,
   "id": "d6005928-e66a-4b2d-8137-8be0676621f3",
   "metadata": {},
   "outputs": [
    {
     "data": {
      "text/html": [
       "<dl class=dl-horizontal>\n",
       "\t<dt>FALSE</dt>\n",
       "\t\t<dd>9446671387</dd>\n",
       "\t<dt>TRUE</dt>\n",
       "\t\t<dd>489266052148</dd>\n",
       "</dl>\n"
      ],
      "text/latex": [
       "\\begin{description*}\n",
       "\\item[FALSE] 9446671387\n",
       "\\item[TRUE] 489266052148\n",
       "\\end{description*}\n"
      ],
      "text/markdown": [
       "FALSE\n",
       ":   9446671387TRUE\n",
       ":   489266052148\n",
       "\n"
      ],
      "text/plain": [
       "       FALSE         TRUE \n",
       "  9446671387 489266052148 "
      ]
     },
     "metadata": {},
     "output_type": "display_data"
    }
   ],
   "source": [
    "tapply(yt$views, yt$positive_balance,sum)"
   ]
  },
  {
   "cell_type": "markdown",
   "id": "802865ea-0956-4989-8211-bb0f05ca8e75",
   "metadata": {},
   "source": [
    "#I used sum because I have used it before and I am comfortable with it"
   ]
  },
  {
   "cell_type": "markdown",
   "id": "9abb1c13-4769-4fea-b5fd-b5c5190ed009",
   "metadata": {},
   "source": [
    "#The views are more than the comments. The results are not surprising as people usually surf through the internet which increases views and comment only when they have a strong opinion."
   ]
  },
  {
   "cell_type": "markdown",
   "id": "f76442d6-d02e-4f26-b9d6-c3183e1d6929",
   "metadata": {},
   "source": [
    "## Pledge\n",
    "\n",
    "By submitting this work I hereby pledge that this is my own, personal work. I've acknowledged in the designated place at the top of this file all sources that I used to complete said work, including but not limited to: online resources, books, and electronic communications. I've noted all collaboration with fellow students and/or TA's. I did not copy or plagiarize another's work.\n",
    "\n",
    "> As a Boilermaker pursuing academic excellence, I pledge to be honest and true in all that I do. Accountable together – We are Purdue."
   ]
  }
 ],
 "metadata": {
  "kernelspec": {
   "display_name": "f2021-s2022-r",
   "language": "R",
   "name": "tdm-brown-scratch-f2021-s2022-r"
  },
  "language_info": {
   "codemirror_mode": "r",
   "file_extension": ".r",
   "mimetype": "text/x-r-source",
   "name": "R",
   "pygments_lexer": "r",
   "version": "4.0.0"
  }
 },
 "nbformat": 4,
 "nbformat_minor": 5
}
