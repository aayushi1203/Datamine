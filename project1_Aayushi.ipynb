{
 "cells": [
  {
   "cell_type": "markdown",
   "id": "be02a957-7133-4d02-818e-fedeb3cecb05",
   "metadata": {},
   "source": [
    "# Project 1 -- Aayushi Akhouri"
   ]
  },
  {
   "cell_type": "markdown",
   "id": "6180e742-8e39-4698-98ff-5b00c8cf8ea0",
   "metadata": {
    "tags": []
   },
   "source": [
    "## Question 1"
   ]
  },
  {
   "cell_type": "code",
   "execution_count": 1,
   "id": "49445606-d363-41b4-b479-e319a9a84c01",
   "metadata": {},
   "outputs": [
    {
     "data": {
      "text/html": [
       "<ol class=list-inline>\n",
       "\t<li>'athlete_events.csv'</li>\n",
       "\t<li>'regions.csv'</li>\n",
       "</ol>\n"
      ],
      "text/latex": [
       "\\begin{enumerate*}\n",
       "\\item 'athlete\\_events.csv'\n",
       "\\item 'regions.csv'\n",
       "\\end{enumerate*}\n"
      ],
      "text/markdown": [
       "1. 'athlete_events.csv'\n",
       "2. 'regions.csv'\n",
       "\n",
       "\n"
      ],
      "text/plain": [
       "[1] \"athlete_events.csv\" \"regions.csv\"       "
      ]
     },
     "metadata": {},
     "output_type": "display_data"
    }
   ],
   "source": [
    "list.files(\"/depot/datamine/data/olympics\")"
   ]
  },
  {
   "cell_type": "code",
   "execution_count": 3,
   "id": "a0b6c9d3-a2cb-40e9-8e3d-16a12df2efee",
   "metadata": {},
   "outputs": [
    {
     "data": {
      "text/html": [
       "<table>\n",
       "<caption>A data.frame: 1 x 10</caption>\n",
       "<thead>\n",
       "\t<tr><th></th><th scope=col>size</th><th scope=col>isdir</th><th scope=col>mode</th><th scope=col>mtime</th><th scope=col>ctime</th><th scope=col>atime</th><th scope=col>uid</th><th scope=col>gid</th><th scope=col>uname</th><th scope=col>grname</th></tr>\n",
       "\t<tr><th></th><th scope=col>&lt;dbl&gt;</th><th scope=col>&lt;lgl&gt;</th><th scope=col>&lt;octmode&gt;</th><th scope=col>&lt;dttm&gt;</th><th scope=col>&lt;dttm&gt;</th><th scope=col>&lt;dttm&gt;</th><th scope=col>&lt;int&gt;</th><th scope=col>&lt;int&gt;</th><th scope=col>&lt;chr&gt;</th><th scope=col>&lt;chr&gt;</th></tr>\n",
       "</thead>\n",
       "<tbody>\n",
       "\t<tr><th scope=row>/depot/datamine/data/olympics/athelete_events.csv</th><td>NA</td><td>NA</td><td>NA</td><td>NA</td><td>NA</td><td>NA</td><td>NA</td><td>NA</td><td>NA</td><td>NA</td></tr>\n",
       "</tbody>\n",
       "</table>\n"
      ],
      "text/latex": [
       "A data.frame: 1 x 10\n",
       "\\begin{tabular}{r|llllllllll}\n",
       "  & size & isdir & mode & mtime & ctime & atime & uid & gid & uname & grname\\\\\n",
       "  & <dbl> & <lgl> & <octmode> & <dttm> & <dttm> & <dttm> & <int> & <int> & <chr> & <chr>\\\\\n",
       "\\hline\n",
       "\t/depot/datamine/data/olympics/athelete\\_events.csv & NA & NA & NA & NA & NA & NA & NA & NA & NA & NA\\\\\n",
       "\\end{tabular}\n"
      ],
      "text/markdown": [
       "\n",
       "A data.frame: 1 x 10\n",
       "\n",
       "| <!--/--> | size &lt;dbl&gt; | isdir &lt;lgl&gt; | mode &lt;octmode&gt; | mtime &lt;dttm&gt; | ctime &lt;dttm&gt; | atime &lt;dttm&gt; | uid &lt;int&gt; | gid &lt;int&gt; | uname &lt;chr&gt; | grname &lt;chr&gt; |\n",
       "|---|---|---|---|---|---|---|---|---|---|---|\n",
       "| /depot/datamine/data/olympics/athelete_events.csv | NA | NA | NA | NA | NA | NA | NA | NA | NA | NA |\n",
       "\n"
      ],
      "text/plain": [
       "                                                  size isdir mode mtime ctime\n",
       "/depot/datamine/data/olympics/athelete_events.csv NA   NA    <NA> <NA>  <NA> \n",
       "                                                  atime uid gid uname grname\n",
       "/depot/datamine/data/olympics/athelete_events.csv <NA>  NA  NA  NA    NA    "
      ]
     },
     "metadata": {},
     "output_type": "display_data"
    }
   ],
   "source": [
    "file.info(\"/depot/datamine/data/olympics/athelete_events.csv\")"
   ]
  },
  {
   "cell_type": "code",
   "execution_count": 4,
   "id": "2eefa9ea-deeb-49a2-90da-8e2f99a50873",
   "metadata": {},
   "outputs": [
    {
     "data": {
      "text/html": [
       "<table>\n",
       "<caption>A data.frame: 1 x 10</caption>\n",
       "<thead>\n",
       "\t<tr><th></th><th scope=col>size</th><th scope=col>isdir</th><th scope=col>mode</th><th scope=col>mtime</th><th scope=col>ctime</th><th scope=col>atime</th><th scope=col>uid</th><th scope=col>gid</th><th scope=col>uname</th><th scope=col>grname</th></tr>\n",
       "\t<tr><th></th><th scope=col>&lt;dbl&gt;</th><th scope=col>&lt;lgl&gt;</th><th scope=col>&lt;octmode&gt;</th><th scope=col>&lt;dttm&gt;</th><th scope=col>&lt;dttm&gt;</th><th scope=col>&lt;dttm&gt;</th><th scope=col>&lt;int&gt;</th><th scope=col>&lt;int&gt;</th><th scope=col>&lt;chr&gt;</th><th scope=col>&lt;chr&gt;</th></tr>\n",
       "</thead>\n",
       "<tbody>\n",
       "\t<tr><th scope=row>/depot/datamine/data/olympics/regions.csv</th><td>3595</td><td>FALSE</td><td>664</td><td>2021-08-05 17:47:40</td><td>2021-08-05 17:47:40</td><td>2021-09-08 13:54:34</td><td>209239</td><td>20118</td><td>kamstut</td><td>tdm-admin</td></tr>\n",
       "</tbody>\n",
       "</table>\n"
      ],
      "text/latex": [
       "A data.frame: 1 x 10\n",
       "\\begin{tabular}{r|llllllllll}\n",
       "  & size & isdir & mode & mtime & ctime & atime & uid & gid & uname & grname\\\\\n",
       "  & <dbl> & <lgl> & <octmode> & <dttm> & <dttm> & <dttm> & <int> & <int> & <chr> & <chr>\\\\\n",
       "\\hline\n",
       "\t/depot/datamine/data/olympics/regions.csv & 3595 & FALSE & 664 & 2021-08-05 17:47:40 & 2021-08-05 17:47:40 & 2021-09-08 13:54:34 & 209239 & 20118 & kamstut & tdm-admin\\\\\n",
       "\\end{tabular}\n"
      ],
      "text/markdown": [
       "\n",
       "A data.frame: 1 x 10\n",
       "\n",
       "| <!--/--> | size &lt;dbl&gt; | isdir &lt;lgl&gt; | mode &lt;octmode&gt; | mtime &lt;dttm&gt; | ctime &lt;dttm&gt; | atime &lt;dttm&gt; | uid &lt;int&gt; | gid &lt;int&gt; | uname &lt;chr&gt; | grname &lt;chr&gt; |\n",
       "|---|---|---|---|---|---|---|---|---|---|---|\n",
       "| /depot/datamine/data/olympics/regions.csv | 3595 | FALSE | 664 | 2021-08-05 17:47:40 | 2021-08-05 17:47:40 | 2021-09-08 13:54:34 | 209239 | 20118 | kamstut | tdm-admin |\n",
       "\n"
      ],
      "text/plain": [
       "                                          size isdir mode mtime              \n",
       "/depot/datamine/data/olympics/regions.csv 3595 FALSE 664  2021-08-05 17:47:40\n",
       "                                          ctime              \n",
       "/depot/datamine/data/olympics/regions.csv 2021-08-05 17:47:40\n",
       "                                          atime               uid    gid  \n",
       "/depot/datamine/data/olympics/regions.csv 2021-09-08 13:54:34 209239 20118\n",
       "                                          uname   grname   \n",
       "/depot/datamine/data/olympics/regions.csv kamstut tdm-admin"
      ]
     },
     "metadata": {},
     "output_type": "display_data"
    }
   ],
   "source": [
    "file.info(\"/depot/datamine/data/olympics/regions.csv\")"
   ]
  },
  {
   "cell_type": "markdown",
   "id": "b456e57c-4a12-464b-999a-ef2df5af80c1",
   "metadata": {},
   "source": [
    "Markdown notes and sentences and analysis written here."
   ]
  },
  {
   "cell_type": "code",
   "execution_count": 5,
   "id": "ce4b3eb8-585b-479d-a924-418844a86f90",
   "metadata": {},
   "outputs": [
    {
     "data": {
      "text/html": [
       "<ol class=list-inline>\n",
       "\t<li>230</li>\n",
       "\t<li>3</li>\n",
       "</ol>\n"
      ],
      "text/latex": [
       "\\begin{enumerate*}\n",
       "\\item 230\n",
       "\\item 3\n",
       "\\end{enumerate*}\n"
      ],
      "text/markdown": [
       "1. 230\n",
       "2. 3\n",
       "\n",
       "\n"
      ],
      "text/plain": [
       "[1] 230   3"
      ]
     },
     "metadata": {},
     "output_type": "display_data"
    }
   ],
   "source": [
    "dim(read.csv(\"/depot/datamine/data/olympics/regions.csv\"))"
   ]
  },
  {
   "cell_type": "code",
   "execution_count": 5,
   "id": "7d89f997-9463-4879-9cb9-86601110009c",
   "metadata": {},
   "outputs": [],
   "source": [
    "olympics <- read.csv(\"/depot/datamine/data/olympics/athlete_events.csv\")"
   ]
  },
  {
   "cell_type": "code",
   "execution_count": 6,
   "id": "d04467d0-1edd-41fc-a713-b989ecd0febe",
   "metadata": {},
   "outputs": [
    {
     "data": {
      "text/html": [
       "<ol class=list-inline>\n",
       "\t<li>271116</li>\n",
       "\t<li>15</li>\n",
       "</ol>\n"
      ],
      "text/latex": [
       "\\begin{enumerate*}\n",
       "\\item 271116\n",
       "\\item 15\n",
       "\\end{enumerate*}\n"
      ],
      "text/markdown": [
       "1. 271116\n",
       "2. 15\n",
       "\n",
       "\n"
      ],
      "text/plain": [
       "[1] 271116     15"
      ]
     },
     "metadata": {},
     "output_type": "display_data"
    }
   ],
   "source": [
    "dim(olympics)"
   ]
  },
  {
   "cell_type": "code",
   "execution_count": 7,
   "id": "ec40fc8e-adfc-45b4-8bc9-c5ed7e17a99f",
   "metadata": {},
   "outputs": [
    {
     "data": {
      "text/html": [
       "<table>\n",
       "<caption>A data.frame: 6 x 15</caption>\n",
       "<thead>\n",
       "\t<tr><th scope=col>ID</th><th scope=col>Name</th><th scope=col>Sex</th><th scope=col>Age</th><th scope=col>Height</th><th scope=col>Weight</th><th scope=col>Team</th><th scope=col>NOC</th><th scope=col>Games</th><th scope=col>Year</th><th scope=col>Season</th><th scope=col>City</th><th scope=col>Sport</th><th scope=col>Event</th><th scope=col>Medal</th></tr>\n",
       "\t<tr><th scope=col>&lt;int&gt;</th><th scope=col>&lt;chr&gt;</th><th scope=col>&lt;chr&gt;</th><th scope=col>&lt;int&gt;</th><th scope=col>&lt;int&gt;</th><th scope=col>&lt;dbl&gt;</th><th scope=col>&lt;chr&gt;</th><th scope=col>&lt;chr&gt;</th><th scope=col>&lt;chr&gt;</th><th scope=col>&lt;int&gt;</th><th scope=col>&lt;chr&gt;</th><th scope=col>&lt;chr&gt;</th><th scope=col>&lt;chr&gt;</th><th scope=col>&lt;chr&gt;</th><th scope=col>&lt;chr&gt;</th></tr>\n",
       "</thead>\n",
       "<tbody>\n",
       "\t<tr><td>1</td><td>A Dijiang               </td><td>M</td><td>24</td><td>180</td><td>80</td><td>China         </td><td>CHN</td><td>1992 Summer</td><td>1992</td><td>Summer</td><td>Barcelona</td><td>Basketball   </td><td>Basketball Men's Basketball       </td><td>NA  </td></tr>\n",
       "\t<tr><td>2</td><td>A Lamusi                </td><td>M</td><td>23</td><td>170</td><td>60</td><td>China         </td><td>CHN</td><td>2012 Summer</td><td>2012</td><td>Summer</td><td>London   </td><td>Judo         </td><td>Judo Men's Extra-Lightweight      </td><td>NA  </td></tr>\n",
       "\t<tr><td>3</td><td>Gunnar Nielsen Aaby     </td><td>M</td><td>24</td><td> NA</td><td>NA</td><td>Denmark       </td><td>DEN</td><td>1920 Summer</td><td>1920</td><td>Summer</td><td>Antwerpen</td><td>Football     </td><td>Football Men's Football           </td><td>NA  </td></tr>\n",
       "\t<tr><td>4</td><td>Edgar Lindenau Aabye    </td><td>M</td><td>34</td><td> NA</td><td>NA</td><td>Denmark/Sweden</td><td>DEN</td><td>1900 Summer</td><td>1900</td><td>Summer</td><td>Paris    </td><td>Tug-Of-War   </td><td>Tug-Of-War Men's Tug-Of-War       </td><td>Gold</td></tr>\n",
       "\t<tr><td>5</td><td>Christine Jacoba Aaftink</td><td>F</td><td>21</td><td>185</td><td>82</td><td>Netherlands   </td><td>NED</td><td>1988 Winter</td><td>1988</td><td>Winter</td><td>Calgary  </td><td>Speed Skating</td><td>Speed Skating Women's 500 metres  </td><td>NA  </td></tr>\n",
       "\t<tr><td>5</td><td>Christine Jacoba Aaftink</td><td>F</td><td>21</td><td>185</td><td>82</td><td>Netherlands   </td><td>NED</td><td>1988 Winter</td><td>1988</td><td>Winter</td><td>Calgary  </td><td>Speed Skating</td><td>Speed Skating Women's 1,000 metres</td><td>NA  </td></tr>\n",
       "</tbody>\n",
       "</table>\n"
      ],
      "text/latex": [
       "A data.frame: 6 x 15\n",
       "\\begin{tabular}{r|lllllllllllllll}\n",
       " ID & Name & Sex & Age & Height & Weight & Team & NOC & Games & Year & Season & City & Sport & Event & Medal\\\\\n",
       " <int> & <chr> & <chr> & <int> & <int> & <dbl> & <chr> & <chr> & <chr> & <int> & <chr> & <chr> & <chr> & <chr> & <chr>\\\\\n",
       "\\hline\n",
       "\t 1 & A Dijiang                & M & 24 & 180 & 80 & China          & CHN & 1992 Summer & 1992 & Summer & Barcelona & Basketball    & Basketball Men's Basketball        & NA  \\\\\n",
       "\t 2 & A Lamusi                 & M & 23 & 170 & 60 & China          & CHN & 2012 Summer & 2012 & Summer & London    & Judo          & Judo Men's Extra-Lightweight       & NA  \\\\\n",
       "\t 3 & Gunnar Nielsen Aaby      & M & 24 &  NA & NA & Denmark        & DEN & 1920 Summer & 1920 & Summer & Antwerpen & Football      & Football Men's Football            & NA  \\\\\n",
       "\t 4 & Edgar Lindenau Aabye     & M & 34 &  NA & NA & Denmark/Sweden & DEN & 1900 Summer & 1900 & Summer & Paris     & Tug-Of-War    & Tug-Of-War Men's Tug-Of-War        & Gold\\\\\n",
       "\t 5 & Christine Jacoba Aaftink & F & 21 & 185 & 82 & Netherlands    & NED & 1988 Winter & 1988 & Winter & Calgary   & Speed Skating & Speed Skating Women's 500 metres   & NA  \\\\\n",
       "\t 5 & Christine Jacoba Aaftink & F & 21 & 185 & 82 & Netherlands    & NED & 1988 Winter & 1988 & Winter & Calgary   & Speed Skating & Speed Skating Women's 1,000 metres & NA  \\\\\n",
       "\\end{tabular}\n"
      ],
      "text/markdown": [
       "\n",
       "A data.frame: 6 x 15\n",
       "\n",
       "| ID &lt;int&gt; | Name &lt;chr&gt; | Sex &lt;chr&gt; | Age &lt;int&gt; | Height &lt;int&gt; | Weight &lt;dbl&gt; | Team &lt;chr&gt; | NOC &lt;chr&gt; | Games &lt;chr&gt; | Year &lt;int&gt; | Season &lt;chr&gt; | City &lt;chr&gt; | Sport &lt;chr&gt; | Event &lt;chr&gt; | Medal &lt;chr&gt; |\n",
       "|---|---|---|---|---|---|---|---|---|---|---|---|---|---|---|\n",
       "| 1 | A Dijiang                | M | 24 | 180 | 80 | China          | CHN | 1992 Summer | 1992 | Summer | Barcelona | Basketball    | Basketball Men's Basketball        | NA   |\n",
       "| 2 | A Lamusi                 | M | 23 | 170 | 60 | China          | CHN | 2012 Summer | 2012 | Summer | London    | Judo          | Judo Men's Extra-Lightweight       | NA   |\n",
       "| 3 | Gunnar Nielsen Aaby      | M | 24 |  NA | NA | Denmark        | DEN | 1920 Summer | 1920 | Summer | Antwerpen | Football      | Football Men's Football            | NA   |\n",
       "| 4 | Edgar Lindenau Aabye     | M | 34 |  NA | NA | Denmark/Sweden | DEN | 1900 Summer | 1900 | Summer | Paris     | Tug-Of-War    | Tug-Of-War Men's Tug-Of-War        | Gold |\n",
       "| 5 | Christine Jacoba Aaftink | F | 21 | 185 | 82 | Netherlands    | NED | 1988 Winter | 1988 | Winter | Calgary   | Speed Skating | Speed Skating Women's 500 metres   | NA   |\n",
       "| 5 | Christine Jacoba Aaftink | F | 21 | 185 | 82 | Netherlands    | NED | 1988 Winter | 1988 | Winter | Calgary   | Speed Skating | Speed Skating Women's 1,000 metres | NA   |\n",
       "\n"
      ],
      "text/plain": [
       "  ID Name                     Sex Age Height Weight Team           NOC\n",
       "1 1  A Dijiang                M   24  180    80     China          CHN\n",
       "2 2  A Lamusi                 M   23  170    60     China          CHN\n",
       "3 3  Gunnar Nielsen Aaby      M   24   NA    NA     Denmark        DEN\n",
       "4 4  Edgar Lindenau Aabye     M   34   NA    NA     Denmark/Sweden DEN\n",
       "5 5  Christine Jacoba Aaftink F   21  185    82     Netherlands    NED\n",
       "6 5  Christine Jacoba Aaftink F   21  185    82     Netherlands    NED\n",
       "  Games       Year Season City      Sport        \n",
       "1 1992 Summer 1992 Summer Barcelona Basketball   \n",
       "2 2012 Summer 2012 Summer London    Judo         \n",
       "3 1920 Summer 1920 Summer Antwerpen Football     \n",
       "4 1900 Summer 1900 Summer Paris     Tug-Of-War   \n",
       "5 1988 Winter 1988 Winter Calgary   Speed Skating\n",
       "6 1988 Winter 1988 Winter Calgary   Speed Skating\n",
       "  Event                              Medal\n",
       "1 Basketball Men's Basketball        NA   \n",
       "2 Judo Men's Extra-Lightweight       NA   \n",
       "3 Football Men's Football            NA   \n",
       "4 Tug-Of-War Men's Tug-Of-War        Gold \n",
       "5 Speed Skating Women's 500 metres   NA   \n",
       "6 Speed Skating Women's 1,000 metres NA   "
      ]
     },
     "metadata": {},
     "output_type": "display_data"
    }
   ],
   "source": [
    "head(olympics)"
   ]
  },
  {
   "cell_type": "code",
   "execution_count": null,
   "id": "ab603ed3-8c6e-47c0-91c0-528ba9edee83",
   "metadata": {},
   "outputs": [],
   "source": [
    "#The above data set gives information about athletes in olympics.\n",
    "#It displays personal and professional data of the athletes.\n",
    "#It has 6 rows and 15 columns."
   ]
  },
  {
   "cell_type": "markdown",
   "id": "fc601975-35ed-4680-a4e1-0273ee3cc047",
   "metadata": {},
   "source": [
    "## Question 2"
   ]
  },
  {
   "cell_type": "code",
   "execution_count": 5,
   "id": "bd0fc36d-51b9-447f-844c-f5eba5169ba6",
   "metadata": {},
   "outputs": [],
   "source": [
    "olympics <- read.csv(\"/depot/datamine/data/olympics/athlete_events.csv\")"
   ]
  },
  {
   "cell_type": "code",
   "execution_count": 8,
   "id": "594b276b-ac5f-4bc5-8b81-669358af5803",
   "metadata": {},
   "outputs": [
    {
     "data": {
      "text/html": [
       "271116"
      ],
      "text/latex": [
       "271116"
      ],
      "text/markdown": [
       "271116"
      ],
      "text/plain": [
       "[1] 271116"
      ]
     },
     "metadata": {},
     "output_type": "display_data"
    }
   ],
   "source": [
    "length(olympics$Sport)"
   ]
  },
  {
   "cell_type": "code",
   "execution_count": 10,
   "id": "9404c596-87fc-4977-b4d8-f943aaa20d77",
   "metadata": {},
   "outputs": [
    {
     "data": {
      "text/plain": [
       "\n",
       "              Aeronautics             Alpine Skiing                  Alpinism \n",
       "                        1                      8829                        25 \n",
       "                  Archery          Art Competitions                 Athletics \n",
       "                     2334                      3578                     38624 \n",
       "                Badminton                  Baseball                Basketball \n",
       "                     1457                       894                      4536 \n",
       "            Basque Pelota          Beach Volleyball                  Biathlon \n",
       "                        2                       564                      4893 \n",
       "                Bobsleigh                    Boxing                  Canoeing \n",
       "                     3058                      6047                      6171 \n",
       "                  Cricket                   Croquet      Cross Country Skiing \n",
       "                       24                        19                      9133 \n",
       "                  Curling                   Cycling                    Diving \n",
       "                      463                     10859                      2842 \n",
       "            Equestrianism                   Fencing            Figure Skating \n",
       "                     6344                     10735                      2298 \n",
       "                 Football          Freestyle Skiing                      Golf \n",
       "                     6745                       937                       247 \n",
       "               Gymnastics                  Handball                    Hockey \n",
       "                    26707                      3665                      5417 \n",
       "               Ice Hockey              Jeu De Paume                      Judo \n",
       "                     5516                        11                      3801 \n",
       "                 Lacrosse                      Luge       Military Ski Patrol \n",
       "                       60                      1479                        24 \n",
       "        Modern Pentathlon              Motorboating           Nordic Combined \n",
       "                     1677                        17                      1344 \n",
       "                     Polo                  Racquets       Rhythmic Gymnastics \n",
       "                       95                        12                       658 \n",
       "                    Roque                    Rowing                     Rugby \n",
       "                        4                     10595                       162 \n",
       "             Rugby Sevens                   Sailing                  Shooting \n",
       "                      299                      6586                     11448 \n",
       "Short Track Speed Skating                  Skeleton               Ski Jumping \n",
       "                     1534                       199                      2401 \n",
       "             Snowboarding                  Softball             Speed Skating \n",
       "                      936                       478                      5613 \n",
       "                 Swimming     Synchronized Swimming              Table Tennis \n",
       "                    23195                       909                      1955 \n",
       "                Taekwondo                    Tennis              Trampolining \n",
       "                      606                      2862                       152 \n",
       "                Triathlon                Tug-Of-War                Volleyball \n",
       "                      529                       170                      3404 \n",
       "               Water Polo             Weightlifting                 Wrestling \n",
       "                     3846                      3937                      7154 "
      ]
     },
     "metadata": {},
     "output_type": "display_data"
    }
   ],
   "source": [
    "table(olympics$Sport)"
   ]
  },
  {
   "cell_type": "markdown",
   "id": "14dc22d4-ddc3-41cc-a91a-cb0025bc0c80",
   "metadata": {},
   "source": [
    "Markdown notes and sentences and analysis written here."
   ]
  },
  {
   "cell_type": "code",
   "execution_count": 11,
   "id": "5bccd503-c3e2-4801-a847-cab48e95fd84",
   "metadata": {},
   "outputs": [
    {
     "data": {
      "text/html": [
       "66"
      ],
      "text/latex": [
       "66"
      ],
      "text/markdown": [
       "66"
      ],
      "text/plain": [
       "[1] 66"
      ]
     },
     "metadata": {},
     "output_type": "display_data"
    }
   ],
   "source": [
    "length(table(olympics$Sport))"
   ]
  },
  {
   "cell_type": "code",
   "execution_count": 13,
   "id": "432b0f7d-ef1e-4392-8392-c3df960d1d4a",
   "metadata": {},
   "outputs": [
    {
     "data": {
      "text/html": [
       "<ol class=list-inline>\n",
       "\t<li>'Basketball'</li>\n",
       "\t<li>'Judo'</li>\n",
       "\t<li>'Football'</li>\n",
       "\t<li>'Tug-Of-War'</li>\n",
       "\t<li>'Speed Skating'</li>\n",
       "\t<li>'Cross Country Skiing'</li>\n",
       "\t<li>'Athletics'</li>\n",
       "\t<li>'Ice Hockey'</li>\n",
       "\t<li>'Swimming'</li>\n",
       "\t<li>'Badminton'</li>\n",
       "\t<li>'Sailing'</li>\n",
       "\t<li>'Biathlon'</li>\n",
       "\t<li>'Gymnastics'</li>\n",
       "\t<li>'Art Competitions'</li>\n",
       "\t<li>'Alpine Skiing'</li>\n",
       "\t<li>'Handball'</li>\n",
       "\t<li>'Weightlifting'</li>\n",
       "\t<li>'Wrestling'</li>\n",
       "\t<li>'Luge'</li>\n",
       "\t<li>'Water Polo'</li>\n",
       "\t<li>'Hockey'</li>\n",
       "\t<li>'Rowing'</li>\n",
       "\t<li>'Bobsleigh'</li>\n",
       "\t<li>'Fencing'</li>\n",
       "\t<li>'Equestrianism'</li>\n",
       "\t<li>'Shooting'</li>\n",
       "\t<li>'Boxing'</li>\n",
       "\t<li>'Taekwondo'</li>\n",
       "\t<li>'Cycling'</li>\n",
       "\t<li>'Diving'</li>\n",
       "\t<li>'Canoeing'</li>\n",
       "\t<li>'Tennis'</li>\n",
       "\t<li>'Modern Pentathlon'</li>\n",
       "\t<li>'Figure Skating'</li>\n",
       "\t<li>'Golf'</li>\n",
       "\t<li>'Softball'</li>\n",
       "\t<li>'Archery'</li>\n",
       "\t<li>'Volleyball'</li>\n",
       "\t<li>'Synchronized Swimming'</li>\n",
       "\t<li>'Table Tennis'</li>\n",
       "\t<li>'Nordic Combined'</li>\n",
       "\t<li>'Baseball'</li>\n",
       "\t<li>'Rhythmic Gymnastics'</li>\n",
       "\t<li>'Freestyle Skiing'</li>\n",
       "\t<li>'Rugby Sevens'</li>\n",
       "\t<li>'Trampolining'</li>\n",
       "\t<li>'Beach Volleyball'</li>\n",
       "\t<li>'Triathlon'</li>\n",
       "\t<li>'Ski Jumping'</li>\n",
       "\t<li>'Curling'</li>\n",
       "\t<li>'Snowboarding'</li>\n",
       "\t<li>'Rugby'</li>\n",
       "\t<li>'Short Track Speed Skating'</li>\n",
       "\t<li>'Skeleton'</li>\n",
       "\t<li>'Lacrosse'</li>\n",
       "\t<li>'Polo'</li>\n",
       "\t<li>'Cricket'</li>\n",
       "\t<li>'Racquets'</li>\n",
       "\t<li>'Motorboating'</li>\n",
       "\t<li>'Military Ski Patrol'</li>\n",
       "\t<li>'Croquet'</li>\n",
       "\t<li>'Jeu De Paume'</li>\n",
       "\t<li>'Roque'</li>\n",
       "\t<li>'Alpinism'</li>\n",
       "\t<li>'Basque Pelota'</li>\n",
       "\t<li>'Aeronautics'</li>\n",
       "</ol>\n"
      ],
      "text/latex": [
       "\\begin{enumerate*}\n",
       "\\item 'Basketball'\n",
       "\\item 'Judo'\n",
       "\\item 'Football'\n",
       "\\item 'Tug-Of-War'\n",
       "\\item 'Speed Skating'\n",
       "\\item 'Cross Country Skiing'\n",
       "\\item 'Athletics'\n",
       "\\item 'Ice Hockey'\n",
       "\\item 'Swimming'\n",
       "\\item 'Badminton'\n",
       "\\item 'Sailing'\n",
       "\\item 'Biathlon'\n",
       "\\item 'Gymnastics'\n",
       "\\item 'Art Competitions'\n",
       "\\item 'Alpine Skiing'\n",
       "\\item 'Handball'\n",
       "\\item 'Weightlifting'\n",
       "\\item 'Wrestling'\n",
       "\\item 'Luge'\n",
       "\\item 'Water Polo'\n",
       "\\item 'Hockey'\n",
       "\\item 'Rowing'\n",
       "\\item 'Bobsleigh'\n",
       "\\item 'Fencing'\n",
       "\\item 'Equestrianism'\n",
       "\\item 'Shooting'\n",
       "\\item 'Boxing'\n",
       "\\item 'Taekwondo'\n",
       "\\item 'Cycling'\n",
       "\\item 'Diving'\n",
       "\\item 'Canoeing'\n",
       "\\item 'Tennis'\n",
       "\\item 'Modern Pentathlon'\n",
       "\\item 'Figure Skating'\n",
       "\\item 'Golf'\n",
       "\\item 'Softball'\n",
       "\\item 'Archery'\n",
       "\\item 'Volleyball'\n",
       "\\item 'Synchronized Swimming'\n",
       "\\item 'Table Tennis'\n",
       "\\item 'Nordic Combined'\n",
       "\\item 'Baseball'\n",
       "\\item 'Rhythmic Gymnastics'\n",
       "\\item 'Freestyle Skiing'\n",
       "\\item 'Rugby Sevens'\n",
       "\\item 'Trampolining'\n",
       "\\item 'Beach Volleyball'\n",
       "\\item 'Triathlon'\n",
       "\\item 'Ski Jumping'\n",
       "\\item 'Curling'\n",
       "\\item 'Snowboarding'\n",
       "\\item 'Rugby'\n",
       "\\item 'Short Track Speed Skating'\n",
       "\\item 'Skeleton'\n",
       "\\item 'Lacrosse'\n",
       "\\item 'Polo'\n",
       "\\item 'Cricket'\n",
       "\\item 'Racquets'\n",
       "\\item 'Motorboating'\n",
       "\\item 'Military Ski Patrol'\n",
       "\\item 'Croquet'\n",
       "\\item 'Jeu De Paume'\n",
       "\\item 'Roque'\n",
       "\\item 'Alpinism'\n",
       "\\item 'Basque Pelota'\n",
       "\\item 'Aeronautics'\n",
       "\\end{enumerate*}\n"
      ],
      "text/markdown": [
       "1. 'Basketball'\n",
       "2. 'Judo'\n",
       "3. 'Football'\n",
       "4. 'Tug-Of-War'\n",
       "5. 'Speed Skating'\n",
       "6. 'Cross Country Skiing'\n",
       "7. 'Athletics'\n",
       "8. 'Ice Hockey'\n",
       "9. 'Swimming'\n",
       "10. 'Badminton'\n",
       "11. 'Sailing'\n",
       "12. 'Biathlon'\n",
       "13. 'Gymnastics'\n",
       "14. 'Art Competitions'\n",
       "15. 'Alpine Skiing'\n",
       "16. 'Handball'\n",
       "17. 'Weightlifting'\n",
       "18. 'Wrestling'\n",
       "19. 'Luge'\n",
       "20. 'Water Polo'\n",
       "21. 'Hockey'\n",
       "22. 'Rowing'\n",
       "23. 'Bobsleigh'\n",
       "24. 'Fencing'\n",
       "25. 'Equestrianism'\n",
       "26. 'Shooting'\n",
       "27. 'Boxing'\n",
       "28. 'Taekwondo'\n",
       "29. 'Cycling'\n",
       "30. 'Diving'\n",
       "31. 'Canoeing'\n",
       "32. 'Tennis'\n",
       "33. 'Modern Pentathlon'\n",
       "34. 'Figure Skating'\n",
       "35. 'Golf'\n",
       "36. 'Softball'\n",
       "37. 'Archery'\n",
       "38. 'Volleyball'\n",
       "39. 'Synchronized Swimming'\n",
       "40. 'Table Tennis'\n",
       "41. 'Nordic Combined'\n",
       "42. 'Baseball'\n",
       "43. 'Rhythmic Gymnastics'\n",
       "44. 'Freestyle Skiing'\n",
       "45. 'Rugby Sevens'\n",
       "46. 'Trampolining'\n",
       "47. 'Beach Volleyball'\n",
       "48. 'Triathlon'\n",
       "49. 'Ski Jumping'\n",
       "50. 'Curling'\n",
       "51. 'Snowboarding'\n",
       "52. 'Rugby'\n",
       "53. 'Short Track Speed Skating'\n",
       "54. 'Skeleton'\n",
       "55. 'Lacrosse'\n",
       "56. 'Polo'\n",
       "57. 'Cricket'\n",
       "58. 'Racquets'\n",
       "59. 'Motorboating'\n",
       "60. 'Military Ski Patrol'\n",
       "61. 'Croquet'\n",
       "62. 'Jeu De Paume'\n",
       "63. 'Roque'\n",
       "64. 'Alpinism'\n",
       "65. 'Basque Pelota'\n",
       "66. 'Aeronautics'\n",
       "\n",
       "\n"
      ],
      "text/plain": [
       " [1] \"Basketball\"                \"Judo\"                     \n",
       " [3] \"Football\"                  \"Tug-Of-War\"               \n",
       " [5] \"Speed Skating\"             \"Cross Country Skiing\"     \n",
       " [7] \"Athletics\"                 \"Ice Hockey\"               \n",
       " [9] \"Swimming\"                  \"Badminton\"                \n",
       "[11] \"Sailing\"                   \"Biathlon\"                 \n",
       "[13] \"Gymnastics\"                \"Art Competitions\"         \n",
       "[15] \"Alpine Skiing\"             \"Handball\"                 \n",
       "[17] \"Weightlifting\"             \"Wrestling\"                \n",
       "[19] \"Luge\"                      \"Water Polo\"               \n",
       "[21] \"Hockey\"                    \"Rowing\"                   \n",
       "[23] \"Bobsleigh\"                 \"Fencing\"                  \n",
       "[25] \"Equestrianism\"             \"Shooting\"                 \n",
       "[27] \"Boxing\"                    \"Taekwondo\"                \n",
       "[29] \"Cycling\"                   \"Diving\"                   \n",
       "[31] \"Canoeing\"                  \"Tennis\"                   \n",
       "[33] \"Modern Pentathlon\"         \"Figure Skating\"           \n",
       "[35] \"Golf\"                      \"Softball\"                 \n",
       "[37] \"Archery\"                   \"Volleyball\"               \n",
       "[39] \"Synchronized Swimming\"     \"Table Tennis\"             \n",
       "[41] \"Nordic Combined\"           \"Baseball\"                 \n",
       "[43] \"Rhythmic Gymnastics\"       \"Freestyle Skiing\"         \n",
       "[45] \"Rugby Sevens\"              \"Trampolining\"             \n",
       "[47] \"Beach Volleyball\"          \"Triathlon\"                \n",
       "[49] \"Ski Jumping\"               \"Curling\"                  \n",
       "[51] \"Snowboarding\"              \"Rugby\"                    \n",
       "[53] \"Short Track Speed Skating\" \"Skeleton\"                 \n",
       "[55] \"Lacrosse\"                  \"Polo\"                     \n",
       "[57] \"Cricket\"                   \"Racquets\"                 \n",
       "[59] \"Motorboating\"              \"Military Ski Patrol\"      \n",
       "[61] \"Croquet\"                   \"Jeu De Paume\"             \n",
       "[63] \"Roque\"                     \"Alpinism\"                 \n",
       "[65] \"Basque Pelota\"             \"Aeronautics\"              "
      ]
     },
     "metadata": {},
     "output_type": "display_data"
    }
   ],
   "source": [
    "unique(olympics$Sport)"
   ]
  },
  {
   "cell_type": "code",
   "execution_count": 15,
   "id": "2dbbe2e3-3123-440d-ae19-137f1b454d75",
   "metadata": {},
   "outputs": [
    {
     "data": {
      "text/html": [
       "66"
      ],
      "text/latex": [
       "66"
      ],
      "text/markdown": [
       "66"
      ],
      "text/plain": [
       "[1] 66"
      ]
     },
     "metadata": {},
     "output_type": "display_data"
    }
   ],
   "source": [
    "length(unique(olympics$Sport))"
   ]
  },
  {
   "cell_type": "code",
   "execution_count": null,
   "id": "656519f9-14a3-4586-bb30-cb95ad96b27c",
   "metadata": {},
   "outputs": [],
   "source": [
    "#I did not excpect croquet to be in the list as I had never heard of it in the olympics"
   ]
  },
  {
   "cell_type": "markdown",
   "id": "e33df8a0-18fb-4da8-99e5-b2618f94ef3c",
   "metadata": {},
   "source": [
    "## Question 3"
   ]
  },
  {
   "cell_type": "code",
   "execution_count": 3,
   "id": "fbaa86c5-5b2e-40f8-8568-16d917b210e2",
   "metadata": {},
   "outputs": [],
   "source": [
    "olympics <- read.csv(\"/depot/datamine/data/olympics/athlete_events.csv\")"
   ]
  },
  {
   "cell_type": "code",
   "execution_count": 13,
   "id": "f923d5c4-3a5a-47aa-ad16-4949a69d2e78",
   "metadata": {},
   "outputs": [],
   "source": [
    "us_athletes <- subset(olympics, NOC == \"USA\")"
   ]
  },
  {
   "cell_type": "code",
   "execution_count": 14,
   "id": "9517a0d4-65f5-4d2b-b7a5-32e1c382690d",
   "metadata": {},
   "outputs": [
    {
     "data": {
      "text/html": [
       "<ol class=list-inline>\n",
       "\t<li>18853</li>\n",
       "\t<li>15</li>\n",
       "</ol>\n"
      ],
      "text/latex": [
       "\\begin{enumerate*}\n",
       "\\item 18853\n",
       "\\item 15\n",
       "\\end{enumerate*}\n"
      ],
      "text/markdown": [
       "1. 18853\n",
       "2. 15\n",
       "\n",
       "\n"
      ],
      "text/plain": [
       "[1] 18853    15"
      ]
     },
     "metadata": {},
     "output_type": "display_data"
    }
   ],
   "source": [
    "dim(us_athletes)"
   ]
  },
  {
   "cell_type": "code",
   "execution_count": 20,
   "id": "e0bf2fa0-6435-4685-aede-096b5c1e9581",
   "metadata": {},
   "outputs": [],
   "source": [
    "ind_athletes <- subset(olympics, NOC == \"IND\")"
   ]
  },
  {
   "cell_type": "code",
   "execution_count": 21,
   "id": "06febcf5-9835-4b53-bb12-c6d5ed558a7c",
   "metadata": {},
   "outputs": [
    {
     "data": {
      "text/html": [
       "<ol class=list-inline>\n",
       "\t<li>1408</li>\n",
       "\t<li>15</li>\n",
       "</ol>\n"
      ],
      "text/latex": [
       "\\begin{enumerate*}\n",
       "\\item 1408\n",
       "\\item 15\n",
       "\\end{enumerate*}\n"
      ],
      "text/markdown": [
       "1. 1408\n",
       "2. 15\n",
       "\n",
       "\n"
      ],
      "text/plain": [
       "[1] 1408   15"
      ]
     },
     "metadata": {},
     "output_type": "display_data"
    }
   ],
   "source": [
    "dim(ind_athletes)"
   ]
  },
  {
   "cell_type": "code",
   "execution_count": 24,
   "id": "f85bfde3-3bb9-4fe8-9840-ec3469c86f96",
   "metadata": {},
   "outputs": [],
   "source": [
    "usind_athletes <- subset(olympics,(NOC==\"USA\")| (olympics==\"IND\"))"
   ]
  },
  {
   "cell_type": "code",
   "execution_count": 25,
   "id": "d106bcb2-0332-4e16-beb5-a9aae2c777d8",
   "metadata": {},
   "outputs": [
    {
     "data": {
      "text/html": [
       "<ol class=list-inline>\n",
       "\t<li>284203</li>\n",
       "\t<li>15</li>\n",
       "</ol>\n"
      ],
      "text/latex": [
       "\\begin{enumerate*}\n",
       "\\item 284203\n",
       "\\item 15\n",
       "\\end{enumerate*}\n"
      ],
      "text/markdown": [
       "1. 284203\n",
       "2. 15\n",
       "\n",
       "\n"
      ],
      "text/plain": [
       "[1] 284203     15"
      ]
     },
     "metadata": {},
     "output_type": "display_data"
    }
   ],
   "source": [
    "dim(usind_athletes)"
   ]
  },
  {
   "cell_type": "markdown",
   "id": "47c6229f-35f7-400c-8366-c442baa5cf47",
   "metadata": {},
   "source": [
    "There are 18853 rows in us_athletes\n",
    "There are 1408 rows in ind_athletes\n",
    "There are 284203 rows in usind_athletes"
   ]
  },
  {
   "cell_type": "markdown",
   "id": "da22f29c-d245-4d2b-9fc1-ca14cb6087d9",
   "metadata": {},
   "source": [
    "## Question 4"
   ]
  },
  {
   "cell_type": "code",
   "execution_count": 26,
   "id": "ff1949b9-05c6-4d52-9ee5-51347c5045dc",
   "metadata": {},
   "outputs": [],
   "source": [
    "olympics <- read.csv(\"/depot/datamine/data/olympics/athlete_events.csv\")"
   ]
  },
  {
   "cell_type": "code",
   "execution_count": 27,
   "id": "4024ec8c-34e9-4191-912a-40c95358649a",
   "metadata": {},
   "outputs": [
    {
     "data": {
      "text/plain": [
       "\n",
       "        F         M \n",
       "0.2748713 0.7251287 "
      ]
     },
     "metadata": {},
     "output_type": "display_data"
    }
   ],
   "source": [
    "prop.table(table(olympics$Sex))"
   ]
  },
  {
   "cell_type": "code",
   "execution_count": 34,
   "id": "b59dd8a5-8673-4e73-b2ee-bb6a0e2fe772",
   "metadata": {},
   "outputs": [
    {
     "data": {
      "text/plain": [
       "\n",
       "         AFG          AHO          ALB          ALG          AND          ANG \n",
       "6.709428e-05 1.610263e-04 3.623091e-04 1.261372e-03 5.635920e-04 1.731032e-03 \n",
       "         ANT          ANZ          ARG          ARM          ARU          ASA \n",
       "4.964977e-04 2.683771e-05 8.628325e-03 5.099165e-04 2.147017e-04 9.393199e-05 \n",
       "         AUS          AUT          AZE          BAH          BAN          BAR \n",
       "3.688844e-02 1.476074e-02 9.527388e-04 1.341886e-03 1.744451e-04 5.233354e-04 \n",
       "         BDI          BEL          BEN          BER          BHU          BIH \n",
       "1.878640e-04 8.104989e-03 1.878640e-04 5.501731e-04 2.281206e-04 5.233354e-04 \n",
       "         BIZ          BLR          BOH          BOL          BOT          BRA \n",
       "1.207697e-04 1.065457e-02 2.683771e-05 4.830788e-04 9.393199e-05 1.540485e-02 \n",
       "         BRN          BRU          BUL          BUR          CAF          CAM \n",
       "4.159845e-04 2.683771e-05 1.434476e-02 2.012828e-04 2.147017e-04 2.281206e-04 \n",
       "         CAN          CAY          CGO          CHA          CHI          CHN \n",
       "4.781138e-02 1.610263e-04 4.696600e-04 1.341886e-04 1.583425e-03 3.717023e-02 \n",
       "         CIV          CMR          COD          COK          COL          COM \n",
       "7.782937e-04 1.261372e-03 3.354714e-04 2.147017e-04 3.958563e-03 1.073508e-04 \n",
       "         CPV          CRC          CRO          CUB          CYP          CZE \n",
       "1.207697e-04 8.722257e-04 3.166850e-03 7.890287e-03 7.782937e-04 9.339524e-03 \n",
       "         DEN          DJI          DMA          DOM          ECU          EGY \n",
       "9.527388e-03 6.709428e-05 9.393199e-05 9.661576e-04 8.588068e-04 2.428813e-03 \n",
       "         ERI          ESA          ESP          EST          ETH          EUN \n",
       "8.051314e-05 8.856445e-04 1.930973e-02 2.965567e-03 1.234535e-03 4.374547e-03 \n",
       "         FIJ          FIN          FRA          FRG          FSM          GAB \n",
       "8.990634e-04 1.331151e-02 3.731784e-02 1.223800e-02 1.476074e-04 2.012828e-04 \n",
       "         GAM          GBR          GBS          GDR          GEO          GEQ \n",
       "1.744451e-04 4.397359e-02 1.073508e-04 1.249296e-02 9.661576e-04 1.476074e-04 \n",
       "         GER          GHA          GRE          GRN          GUA          GUI \n",
       "4.024315e-02 7.782937e-04 8.789351e-03 2.281206e-04 1.006414e-03 2.012828e-04 \n",
       "         GUM          GUY          HAI          HKG          HON          HUN \n",
       "3.623091e-04 2.817960e-04 2.549583e-04 2.978986e-03 5.233354e-04 2.345616e-02 \n",
       "         INA          IND          IOA          IRI          IRL          IRQ \n",
       "1.824964e-03 3.233944e-03 3.891468e-04 6.575240e-04 3.797536e-03 9.393199e-05 \n",
       "         ISL          ISR          ISV          ITA          IVB          JAM \n",
       "1.731032e-03 2.777703e-03 7.648748e-04 3.412415e-02 6.709428e-05 4.911301e-03 \n",
       "         JOR          JPN          KAZ          KEN          KGZ          KIR \n",
       "3.086337e-04 3.729100e-02 7.366952e-03 2.133598e-03 7.246182e-04 4.025657e-05 \n",
       "         KOR          KOS          KSA          KUW          LAO          LAT \n",
       "1.999410e-02 6.709428e-05 6.709428e-05 5.367542e-05 1.610263e-04 2.643515e-03 \n",
       "         LBA          LBR          LCA          LES          LIB          LIE \n",
       "1.476074e-04 1.744451e-04 1.744451e-04 2.012828e-04 5.501731e-04 1.006414e-03 \n",
       "         LTU          LUX          MAD          MAL          MAR          MAS \n",
       "2.804541e-03 9.795765e-04 6.441051e-04 1.341886e-05 1.234535e-03 1.355304e-03 \n",
       "         MAW          MDA          MDV          MEX          MGL          MHL \n",
       "1.878640e-04 8.588068e-04 1.610263e-04 8.708838e-03 1.999410e-03 9.393199e-05 \n",
       "         MKD          MLI          MLT          MNE          MON          MOZ \n",
       "4.428223e-04 3.891468e-04 4.159845e-04 4.830788e-04 2.415394e-04 3.086337e-04 \n",
       "         MRI          MTN          MYA          NAM          NCA          NED \n",
       "6.843617e-04 6.709428e-05 3.220525e-04 3.757280e-04 2.952148e-04 2.581788e-02 \n",
       "         NEP          NGR          NIG          NOR          NRU          NZL \n",
       "3.220525e-04 4.146427e-03 1.341886e-04 1.516331e-02 2.683771e-05 1.052038e-02 \n",
       "         OMA          PAK          PAN          PAR          PER          PHI \n",
       "5.367542e-05 1.476074e-04 5.233354e-04 3.086337e-04 2.173855e-03 1.395561e-03 \n",
       "         PLE          PLW          PNG          POL          POR          PRK \n",
       "1.073508e-04 1.744451e-04 3.488903e-04 2.349642e-02 3.757280e-03 5.313867e-03 \n",
       "         PUR          QAT          RHO          ROT          ROU          RSA \n",
       "2.240949e-03 9.393199e-05 1.341886e-05 6.709428e-05 2.172513e-02 5.823784e-03 \n",
       "         RUS          RWA          SAA          SAM          SCG          SEN \n",
       "2.937388e-02 2.683771e-04 9.393199e-05 1.610263e-04 7.782937e-04 1.033252e-03 \n",
       "         SEY          SGP          SKN          SLE          SLO          SMR \n",
       "3.086337e-04 1.731032e-03 2.281206e-04 3.623091e-04 5.555406e-03 2.281206e-04 \n",
       "         SOL          SOM          SRB          SRI          SSD          STP \n",
       "1.207697e-04 6.709428e-05 1.865221e-03 5.904297e-04 1.341886e-05 8.051314e-05 \n",
       "         SUD          SUI          SUR          SVK          SWE          SWZ \n",
       "1.341886e-04 1.616972e-02 2.952148e-04 4.844207e-03 2.663643e-02 1.073508e-04 \n",
       "         SYR          TAN          TCH          TGA          THA          TJK \n",
       "2.281206e-04 2.817960e-04 1.214406e-02 1.341886e-04 2.871635e-03 2.147017e-04 \n",
       "         TKM          TLS          TOG          TPE          TTO          TUN \n",
       "2.952148e-04 6.709428e-05 1.476074e-04 5.474893e-03 1.073508e-03 1.274791e-03 \n",
       "         TUR          TUV          UAE          UGA          UKR          URS \n",
       "3.368133e-03 2.683771e-05 9.393199e-05 5.635920e-04 1.583425e-02 2.133598e-02 \n",
       "         URU          USA          UZB          VAN          VEN          VIE \n",
       "8.319691e-04 7.424653e-02 2.026247e-03 1.610263e-04 2.965567e-03 9.929954e-04 \n",
       "         VIN          VNM          YEM          YUG          ZAM          ZIM \n",
       "1.476074e-04 2.683771e-05 5.367542e-05 5.072328e-03 2.549583e-04 1.516331e-03 "
      ]
     },
     "metadata": {},
     "output_type": "display_data"
    }
   ],
   "source": [
    "prop.table(table(olympics$NOC[olympics$Sex ==\"F\"]))"
   ]
  },
  {
   "cell_type": "markdown",
   "id": "0d552245-b4d6-474a-9cc9-fa7b8e674d55",
   "metadata": {},
   "source": [
    "7.4% of US atheletes were women\n",
    "0.3% of IND atheletes were women"
   ]
  },
  {
   "cell_type": "markdown",
   "id": "88c9cdac-3e92-498f-83fa-e089bfc44ac8",
   "metadata": {},
   "source": [
    "## Question 5"
   ]
  },
  {
   "cell_type": "code",
   "execution_count": 35,
   "id": "f7d21cc8-e976-4398-92bf-58c5daebe953",
   "metadata": {},
   "outputs": [],
   "source": [
    "olympics <- read.csv(\"/depot/datamine/data/olympics/athlete_events.csv\")"
   ]
  },
  {
   "cell_type": "code",
   "execution_count": 37,
   "id": "981ad6b7-3495-485e-80b4-ed09b4af4cc5",
   "metadata": {},
   "outputs": [],
   "source": [
    "us_athletes <- subset(olympics, NOC == \"USA\")"
   ]
  },
  {
   "cell_type": "code",
   "execution_count": 46,
   "id": "5710ec4c-968c-4d75-ba44-e6f3a42422a3",
   "metadata": {},
   "outputs": [
    {
     "data": {
      "text/html": [
       "<table>\n",
       "<caption>A data.frame: 1 x 15</caption>\n",
       "<thead>\n",
       "\t<tr><th></th><th scope=col>ID</th><th scope=col>Name</th><th scope=col>Sex</th><th scope=col>Age</th><th scope=col>Height</th><th scope=col>Weight</th><th scope=col>Team</th><th scope=col>NOC</th><th scope=col>Games</th><th scope=col>Year</th><th scope=col>Season</th><th scope=col>City</th><th scope=col>Sport</th><th scope=col>Event</th><th scope=col>Medal</th></tr>\n",
       "\t<tr><th></th><th scope=col>&lt;int&gt;</th><th scope=col>&lt;chr&gt;</th><th scope=col>&lt;chr&gt;</th><th scope=col>&lt;int&gt;</th><th scope=col>&lt;int&gt;</th><th scope=col>&lt;dbl&gt;</th><th scope=col>&lt;chr&gt;</th><th scope=col>&lt;chr&gt;</th><th scope=col>&lt;chr&gt;</th><th scope=col>&lt;int&gt;</th><th scope=col>&lt;chr&gt;</th><th scope=col>&lt;chr&gt;</th><th scope=col>&lt;chr&gt;</th><th scope=col>&lt;chr&gt;</th><th scope=col>&lt;chr&gt;</th></tr>\n",
       "</thead>\n",
       "<tbody>\n",
       "\t<tr><th scope=row>7434</th><td>4160</td><td>Robert Day Andrews</td><td>M</td><td>75</td><td>NA</td><td>NA</td><td>United States</td><td>USA</td><td>1932 Summer</td><td>1932</td><td>Summer</td><td>Los Angeles</td><td>Art Competitions</td><td>Art Competitions Mixed Architecture, Unknown Event</td><td>NA</td></tr>\n",
       "</tbody>\n",
       "</table>\n"
      ],
      "text/latex": [
       "A data.frame: 1 x 15\n",
       "\\begin{tabular}{r|lllllllllllllll}\n",
       "  & ID & Name & Sex & Age & Height & Weight & Team & NOC & Games & Year & Season & City & Sport & Event & Medal\\\\\n",
       "  & <int> & <chr> & <chr> & <int> & <int> & <dbl> & <chr> & <chr> & <chr> & <int> & <chr> & <chr> & <chr> & <chr> & <chr>\\\\\n",
       "\\hline\n",
       "\t7434 & 4160 & Robert Day Andrews & M & 75 & NA & NA & United States & USA & 1932 Summer & 1932 & Summer & Los Angeles & Art Competitions & Art Competitions Mixed Architecture, Unknown Event & NA\\\\\n",
       "\\end{tabular}\n"
      ],
      "text/markdown": [
       "\n",
       "A data.frame: 1 x 15\n",
       "\n",
       "| <!--/--> | ID &lt;int&gt; | Name &lt;chr&gt; | Sex &lt;chr&gt; | Age &lt;int&gt; | Height &lt;int&gt; | Weight &lt;dbl&gt; | Team &lt;chr&gt; | NOC &lt;chr&gt; | Games &lt;chr&gt; | Year &lt;int&gt; | Season &lt;chr&gt; | City &lt;chr&gt; | Sport &lt;chr&gt; | Event &lt;chr&gt; | Medal &lt;chr&gt; |\n",
       "|---|---|---|---|---|---|---|---|---|---|---|---|---|---|---|---|\n",
       "| 7434 | 4160 | Robert Day Andrews | M | 75 | NA | NA | United States | USA | 1932 Summer | 1932 | Summer | Los Angeles | Art Competitions | Art Competitions Mixed Architecture, Unknown Event | NA |\n",
       "\n"
      ],
      "text/plain": [
       "     ID   Name               Sex Age Height Weight Team          NOC\n",
       "7434 4160 Robert Day Andrews M   75  NA     NA     United States USA\n",
       "     Games       Year Season City        Sport           \n",
       "7434 1932 Summer 1932 Summer Los Angeles Art Competitions\n",
       "     Event                                              Medal\n",
       "7434 Art Competitions Mixed Architecture, Unknown Event NA   "
      ]
     },
     "metadata": {},
     "output_type": "display_data"
    }
   ],
   "source": [
    "subset(us_athletes,(us_athletes$Age ==\"75\"))"
   ]
  },
  {
   "cell_type": "markdown",
   "id": "9fbf00fb-2418-460f-ae94-2a32b0c28952",
   "metadata": {},
   "source": [
    "The oldest athlete is 75 years old and he competed in art competitions in 1932"
   ]
  },
  {
   "cell_type": "code",
   "execution_count": 48,
   "id": "dca0e1cc-ddbc-474a-ba7c-4692b9b29149",
   "metadata": {},
   "outputs": [],
   "source": [
    "ind_athletes <- subset(olympics, NOC == \"IND\")"
   ]
  },
  {
   "cell_type": "code",
   "execution_count": 62,
   "id": "3a4bf08d-0c50-4007-9d59-748577f59711",
   "metadata": {},
   "outputs": [
    {
     "data": {
      "text/html": [
       "<table>\n",
       "<caption>A data.frame: 1 x 15</caption>\n",
       "<thead>\n",
       "\t<tr><th></th><th scope=col>ID</th><th scope=col>Name</th><th scope=col>Sex</th><th scope=col>Age</th><th scope=col>Height</th><th scope=col>Weight</th><th scope=col>Team</th><th scope=col>NOC</th><th scope=col>Games</th><th scope=col>Year</th><th scope=col>Season</th><th scope=col>City</th><th scope=col>Sport</th><th scope=col>Event</th><th scope=col>Medal</th></tr>\n",
       "\t<tr><th></th><th scope=col>&lt;int&gt;</th><th scope=col>&lt;chr&gt;</th><th scope=col>&lt;chr&gt;</th><th scope=col>&lt;int&gt;</th><th scope=col>&lt;int&gt;</th><th scope=col>&lt;dbl&gt;</th><th scope=col>&lt;chr&gt;</th><th scope=col>&lt;chr&gt;</th><th scope=col>&lt;chr&gt;</th><th scope=col>&lt;int&gt;</th><th scope=col>&lt;chr&gt;</th><th scope=col>&lt;chr&gt;</th><th scope=col>&lt;chr&gt;</th><th scope=col>&lt;chr&gt;</th><th scope=col>&lt;chr&gt;</th></tr>\n",
       "</thead>\n",
       "<tbody>\n",
       "\t<tr><th scope=row>131390</th><td>66129</td><td>Indrajit Singh Lamba</td><td>M</td><td>46</td><td>176</td><td>70</td><td>India</td><td>IND</td><td>1996 Summer</td><td>1996</td><td>Summer</td><td>Atlanta</td><td>Equestrianism</td><td>Equestrianism Mixed Three-Day Event, Individual</td><td>NA</td></tr>\n",
       "</tbody>\n",
       "</table>\n"
      ],
      "text/latex": [
       "A data.frame: 1 x 15\n",
       "\\begin{tabular}{r|lllllllllllllll}\n",
       "  & ID & Name & Sex & Age & Height & Weight & Team & NOC & Games & Year & Season & City & Sport & Event & Medal\\\\\n",
       "  & <int> & <chr> & <chr> & <int> & <int> & <dbl> & <chr> & <chr> & <chr> & <int> & <chr> & <chr> & <chr> & <chr> & <chr>\\\\\n",
       "\\hline\n",
       "\t131390 & 66129 & Indrajit Singh Lamba & M & 46 & 176 & 70 & India & IND & 1996 Summer & 1996 & Summer & Atlanta & Equestrianism & Equestrianism Mixed Three-Day Event, Individual & NA\\\\\n",
       "\\end{tabular}\n"
      ],
      "text/markdown": [
       "\n",
       "A data.frame: 1 x 15\n",
       "\n",
       "| <!--/--> | ID &lt;int&gt; | Name &lt;chr&gt; | Sex &lt;chr&gt; | Age &lt;int&gt; | Height &lt;int&gt; | Weight &lt;dbl&gt; | Team &lt;chr&gt; | NOC &lt;chr&gt; | Games &lt;chr&gt; | Year &lt;int&gt; | Season &lt;chr&gt; | City &lt;chr&gt; | Sport &lt;chr&gt; | Event &lt;chr&gt; | Medal &lt;chr&gt; |\n",
       "|---|---|---|---|---|---|---|---|---|---|---|---|---|---|---|---|\n",
       "| 131390 | 66129 | Indrajit Singh Lamba | M | 46 | 176 | 70 | India | IND | 1996 Summer | 1996 | Summer | Atlanta | Equestrianism | Equestrianism Mixed Three-Day Event, Individual | NA |\n",
       "\n"
      ],
      "text/plain": [
       "       ID    Name                 Sex Age Height Weight Team  NOC Games      \n",
       "131390 66129 Indrajit Singh Lamba M   46  176    70     India IND 1996 Summer\n",
       "       Year Season City    Sport        \n",
       "131390 1996 Summer Atlanta Equestrianism\n",
       "       Event                                           Medal\n",
       "131390 Equestrianism Mixed Three-Day Event, Individual NA   "
      ]
     },
     "metadata": {},
     "output_type": "display_data"
    }
   ],
   "source": [
    "subset(ind_athletes,(ind_athletes$Age ==\"46\"))"
   ]
  },
  {
   "cell_type": "raw",
   "id": "e9c41186-18d3-41cd-b8d5-a8e140217cc8",
   "metadata": {},
   "source": [
    "The oldest athlete is 46 year old and he competed in Equestrianism in 1996"
   ]
  },
  {
   "cell_type": "markdown",
   "id": "f76442d6-d02e-4f26-b9d6-c3183e1d6929",
   "metadata": {},
   "source": [
    "## Pledge\n",
    "\n",
    "By submitting this work I hereby pledge that this is my own, personal work. I've acknowledged in the designated place at the top of this file all sources that I used to complete said work, including but not limited to: online resources, books, and electronic communications. I've noted all collaboration with fellow students and/or TA's. I did not copy or plagiarize another's work.\n",
    "\n",
    "> As a Boilermaker pursuing academic excellence, I pledge to be honest and true in all that I do. Accountable together – We are Purdue."
   ]
  }
 ],
 "metadata": {
  "kernelspec": {
   "display_name": "f2021-s2022-r",
   "language": "R",
   "name": "tdm-brown-scratch-f2021-s2022-r"
  },
  "language_info": {
   "codemirror_mode": "r",
   "file_extension": ".r",
   "mimetype": "text/x-r-source",
   "name": "R",
   "pygments_lexer": "r",
   "version": "4.0.0"
  }
 },
 "nbformat": 4,
 "nbformat_minor": 5
}
