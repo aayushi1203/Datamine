{
 "cells": [
  {
   "cell_type": "markdown",
   "execution_count": null,
   "id": "ba3745f5-fdbc-40de-8a6e-dcef1ca57a41",
   "metadata": {},
   "outputs": [],
   "source": [
    "# Project 4-- Aayushi Akhouri"
   ]
  },
  {
   "cell_type": "markdown",
   "id": "6180e742-8e39-4698-98ff-5b00c8cf8ea0",
   "metadata": {},
   "source": [
    "## Question 1"
   ]
  },
  {
   "cell_type": "code",
   "execution_count": 1,
   "id": "49445606-d363-41b4-b479-e319a9a84c01",
   "metadata": {},
   "outputs": [],
   "source": [
    "tracks<-read.csv(\"/depot/datamine/data/amazon/tracks.csv\")"
   ]
  },
  {
   "cell_type": "code",
   "execution_count": 2,
   "id": "9d189345-34f5-4414-ab0b-968c08bde029",
   "metadata": {},
   "outputs": [
    {
     "data": {
      "text/html": [
       "<ol class=list-inline>\n",
       "\t<li>1000000</li>\n",
       "\t<li>1</li>\n",
       "</ol>\n"
      ],
      "text/latex": [
       "\\begin{enumerate*}\n",
       "\\item 1000000\n",
       "\\item 1\n",
       "\\end{enumerate*}\n"
      ],
      "text/markdown": [
       "1. 1000000\n",
       "2. 1\n",
       "\n",
       "\n"
      ],
      "text/plain": [
       "[1] 1000000       1"
      ]
     },
     "metadata": {},
     "output_type": "display_data"
    }
   ],
   "source": [
    "dim(tracks)"
   ]
  },
  {
   "cell_type": "code",
   "execution_count": 3,
   "id": "0713f109-ca4b-470d-9493-02dfc24709ac",
   "metadata": {},
   "outputs": [
    {
     "name": "stdout",
     "output_type": "stream",
     "text": [
      "'data.frame':\t1000000 obs. of  1 variable:\n",
      " $ track_id.title.song_id.release.artist_id.artist_mbid.artist_name.duration.artist_familiarity.artist_hotttnesss.year.track_7digitalid.shs_perf.shs_work: chr  \"TRMMMYQ128F932D901|Silent Night|SOQMMHC12AB0180CB8|Monster Ballads X-Mas|ARYZTJS1187B98C555|357ff05d-848a-44cf-\"| __truncated__ \"TRMMMKD128F425225D|Tanssi vaan|SOVFVAK12A8C1350D9|Karkuteillä|ARMVN3U1187FB3A1EB|8d7ef530-a6fd-4f8f-b2e2-74aec7\"| __truncated__ \"TRMMMRX128F93187D9|No One Could Ever|SOGTUKN12AB017F4F1|Butter|ARGEKB01187FB50750|3d403d44-36ce-465c-ad43-ae877\"| __truncated__ \"TRMMMCH128F425532C|Si Vos Querés|SOBNYVR12A8C13558C|De Culo|ARNWYLR1187B9B2F9C|12be7648-7094-495f-90e6-df4189d6\"| __truncated__ ...\n"
     ]
    }
   ],
   "source": [
    "str(tracks)"
   ]
  },
  {
   "cell_type": "code",
   "execution_count": 5,
   "id": "0d668964-a179-444d-bf1f-5d9169853f03",
   "metadata": {},
   "outputs": [],
   "source": [
    "tracks<-read.csv(\"/depot/datamine/data/amazon/tracks.csv\" , sep=\"|\")"
   ]
  },
  {
   "cell_type": "code",
   "execution_count": 6,
   "id": "2470f5b4-0a68-48e4-8283-aa4b5b2f3b4a",
   "metadata": {},
   "outputs": [
    {
     "data": {
      "text/html": [
       "<ol class=list-inline>\n",
       "\t<li>1000000</li>\n",
       "\t<li>14</li>\n",
       "</ol>\n"
      ],
      "text/latex": [
       "\\begin{enumerate*}\n",
       "\\item 1000000\n",
       "\\item 14\n",
       "\\end{enumerate*}\n"
      ],
      "text/markdown": [
       "1. 1000000\n",
       "2. 14\n",
       "\n",
       "\n"
      ],
      "text/plain": [
       "[1] 1000000      14"
      ]
     },
     "metadata": {},
     "output_type": "display_data"
    }
   ],
   "source": [
    "dim(tracks)"
   ]
  },
  {
   "cell_type": "code",
   "execution_count": 7,
   "id": "f5857c71-1f70-4131-b3f4-cab5a2fdcd96",
   "metadata": {},
   "outputs": [
    {
     "name": "stdout",
     "output_type": "stream",
     "text": [
      "'data.frame':\t1000000 obs. of  14 variables:\n",
      " $ track_id          : chr  \"TRMMMYQ128F932D901\" \"TRMMMKD128F425225D\" \"TRMMMRX128F93187D9\" \"TRMMMCH128F425532C\" ...\n",
      " $ title             : chr  \"Silent Night\" \"Tanssi vaan\" \"No One Could Ever\" \"Si Vos Querés\" ...\n",
      " $ song_id           : chr  \"SOQMMHC12AB0180CB8\" \"SOVFVAK12A8C1350D9\" \"SOGTUKN12AB017F4F1\" \"SOBNYVR12A8C13558C\" ...\n",
      " $ release           : chr  \"Monster Ballads X-Mas\" \"Karkuteillä\" \"Butter\" \"De Culo\" ...\n",
      " $ artist_id         : chr  \"ARYZTJS1187B98C555\" \"ARMVN3U1187FB3A1EB\" \"ARGEKB01187FB50750\" \"ARNWYLR1187B9B2F9C\" ...\n",
      " $ artist_mbid       : chr  \"357ff05d-848a-44cf-b608-cb34b5701ae5\" \"8d7ef530-a6fd-4f8f-b2e2-74aec765e0f9\" \"3d403d44-36ce-465c-ad43-ae877e65adc4\" \"12be7648-7094-495f-90e6-df4189d68615\" ...\n",
      " $ artist_name       : chr  \"Faster Pussy cat\" \"Karkkiautomaatti\" \"Hudson Mohawke\" \"Yerba Brava\" ...\n",
      " $ duration          : num  252 157 139 145 514 ...\n",
      " $ artist_familiarity: num  0.65 0.44 0.644 0.449 0 ...\n",
      " $ artist_hotttnesss : num  0.394 0.357 0.438 0.372 0 ...\n",
      " $ year              : int  2003 1995 2006 2003 0 0 0 1993 0 0 ...\n",
      " $ track_7digitalid  : int  7032331 1514808 6945353 2168257 2264873 3360982 552626 6435649 8376489 1043208 ...\n",
      " $ shs_perf          : int  -1 -1 -1 -1 -1 -1 -1 -1 -1 -1 ...\n",
      " $ shs_work          : int  0 0 0 0 0 0 0 0 0 0 ...\n"
     ]
    }
   ],
   "source": [
    "str(tracks)"
   ]
  },
  {
   "cell_type": "code",
   "execution_count": 8,
   "id": "8da90f57-2b7d-4a9d-8229-5c4f42045636",
   "metadata": {},
   "outputs": [
    {
     "data": {
      "text/html": [
       "<table>\n",
       "<caption>A data.frame: 6 x 14</caption>\n",
       "<thead>\n",
       "\t<tr><th scope=col>track_id</th><th scope=col>title</th><th scope=col>song_id</th><th scope=col>release</th><th scope=col>artist_id</th><th scope=col>artist_mbid</th><th scope=col>artist_name</th><th scope=col>duration</th><th scope=col>artist_familiarity</th><th scope=col>artist_hotttnesss</th><th scope=col>year</th><th scope=col>track_7digitalid</th><th scope=col>shs_perf</th><th scope=col>shs_work</th></tr>\n",
       "\t<tr><th scope=col>&lt;chr&gt;</th><th scope=col>&lt;chr&gt;</th><th scope=col>&lt;chr&gt;</th><th scope=col>&lt;chr&gt;</th><th scope=col>&lt;chr&gt;</th><th scope=col>&lt;chr&gt;</th><th scope=col>&lt;chr&gt;</th><th scope=col>&lt;dbl&gt;</th><th scope=col>&lt;dbl&gt;</th><th scope=col>&lt;dbl&gt;</th><th scope=col>&lt;int&gt;</th><th scope=col>&lt;int&gt;</th><th scope=col>&lt;int&gt;</th><th scope=col>&lt;int&gt;</th></tr>\n",
       "</thead>\n",
       "<tbody>\n",
       "\t<tr><td>TRMMMYQ128F932D901</td><td>Silent Night                                                  </td><td>SOQMMHC12AB0180CB8</td><td>Monster Ballads X-Mas               </td><td>ARYZTJS1187B98C555</td><td>357ff05d-848a-44cf-b608-cb34b5701ae5</td><td>Faster Pussy cat</td><td>252.0551</td><td>0.6498221</td><td>0.3940319</td><td>2003</td><td>7032331</td><td>-1</td><td>0</td></tr>\n",
       "\t<tr><td>TRMMMKD128F425225D</td><td>Tanssi vaan                                                   </td><td>SOVFVAK12A8C1350D9</td><td>Karkuteillä                         </td><td>ARMVN3U1187FB3A1EB</td><td>8d7ef530-a6fd-4f8f-b2e2-74aec765e0f9</td><td>Karkkiautomaatti</td><td>156.5514</td><td>0.4396040</td><td>0.3569921</td><td>1995</td><td>1514808</td><td>-1</td><td>0</td></tr>\n",
       "\t<tr><td>TRMMMRX128F93187D9</td><td>No One Could Ever                                             </td><td>SOGTUKN12AB017F4F1</td><td>Butter                              </td><td>ARGEKB01187FB50750</td><td>3d403d44-36ce-465c-ad43-ae877e65adc4</td><td>Hudson Mohawke  </td><td>138.9710</td><td>0.6436806</td><td>0.4375038</td><td>2006</td><td>6945353</td><td>-1</td><td>0</td></tr>\n",
       "\t<tr><td>TRMMMCH128F425532C</td><td>Si Vos Querés                                                 </td><td>SOBNYVR12A8C13558C</td><td>De Culo                             </td><td>ARNWYLR1187B9B2F9C</td><td>12be7648-7094-495f-90e6-df4189d68615</td><td>Yerba Brava     </td><td>145.0575</td><td>0.4485012</td><td>0.3723491</td><td>2003</td><td>2168257</td><td>-1</td><td>0</td></tr>\n",
       "\t<tr><td>TRMMMWA128F426B589</td><td>Tangle Of Aspens                                              </td><td>SOHSBXH12A8C13B0DF</td><td>Rene Ablaze Presents Winter Sessions</td><td>AREQDTE1269FB37231</td><td>                                    </td><td>Der Mystic      </td><td>514.2983</td><td>0.0000000</td><td>0.0000000</td><td>   0</td><td>2264873</td><td>-1</td><td>0</td></tr>\n",
       "\t<tr><td>TRMMMXN128F42936A5</td><td>Symphony No. 1 G minor \"Sinfonie Serieuse\"/Allegro con energia</td><td>SOZVAPQ12A8C13B63C</td><td>Berwald: Symphonies Nos. 1/2/3/4    </td><td>AR2NS5Y1187FB5879D</td><td>d087b377-bab7-46c4-bd12-15debebb5d61</td><td>David Montgomery</td><td>816.5351</td><td>0.3612870</td><td>0.1096258</td><td>   0</td><td>3360982</td><td>-1</td><td>0</td></tr>\n",
       "</tbody>\n",
       "</table>\n"
      ],
      "text/latex": [
       "A data.frame: 6 x 14\n",
       "\\begin{tabular}{r|llllllllllllll}\n",
       " track\\_id & title & song\\_id & release & artist\\_id & artist\\_mbid & artist\\_name & duration & artist\\_familiarity & artist\\_hotttnesss & year & track\\_7digitalid & shs\\_perf & shs\\_work\\\\\n",
       " <chr> & <chr> & <chr> & <chr> & <chr> & <chr> & <chr> & <dbl> & <dbl> & <dbl> & <int> & <int> & <int> & <int>\\\\\n",
       "\\hline\n",
       "\t TRMMMYQ128F932D901 & Silent Night                                                   & SOQMMHC12AB0180CB8 & Monster Ballads X-Mas                & ARYZTJS1187B98C555 & 357ff05d-848a-44cf-b608-cb34b5701ae5 & Faster Pussy cat & 252.0551 & 0.6498221 & 0.3940319 & 2003 & 7032331 & -1 & 0\\\\\n",
       "\t TRMMMKD128F425225D & Tanssi vaan                                                    & SOVFVAK12A8C1350D9 & Karkuteillä                          & ARMVN3U1187FB3A1EB & 8d7ef530-a6fd-4f8f-b2e2-74aec765e0f9 & Karkkiautomaatti & 156.5514 & 0.4396040 & 0.3569921 & 1995 & 1514808 & -1 & 0\\\\\n",
       "\t TRMMMRX128F93187D9 & No One Could Ever                                              & SOGTUKN12AB017F4F1 & Butter                               & ARGEKB01187FB50750 & 3d403d44-36ce-465c-ad43-ae877e65adc4 & Hudson Mohawke   & 138.9710 & 0.6436806 & 0.4375038 & 2006 & 6945353 & -1 & 0\\\\\n",
       "\t TRMMMCH128F425532C & Si Vos Querés                                                  & SOBNYVR12A8C13558C & De Culo                              & ARNWYLR1187B9B2F9C & 12be7648-7094-495f-90e6-df4189d68615 & Yerba Brava      & 145.0575 & 0.4485012 & 0.3723491 & 2003 & 2168257 & -1 & 0\\\\\n",
       "\t TRMMMWA128F426B589 & Tangle Of Aspens                                               & SOHSBXH12A8C13B0DF & Rene Ablaze Presents Winter Sessions & AREQDTE1269FB37231 &                                      & Der Mystic       & 514.2983 & 0.0000000 & 0.0000000 &    0 & 2264873 & -1 & 0\\\\\n",
       "\t TRMMMXN128F42936A5 & Symphony No. 1 G minor \"Sinfonie Serieuse\"/Allegro con energia & SOZVAPQ12A8C13B63C & Berwald: Symphonies Nos. 1/2/3/4     & AR2NS5Y1187FB5879D & d087b377-bab7-46c4-bd12-15debebb5d61 & David Montgomery & 816.5351 & 0.3612870 & 0.1096258 &    0 & 3360982 & -1 & 0\\\\\n",
       "\\end{tabular}\n"
      ],
      "text/markdown": [
       "\n",
       "A data.frame: 6 x 14\n",
       "\n",
       "| track_id &lt;chr&gt; | title &lt;chr&gt; | song_id &lt;chr&gt; | release &lt;chr&gt; | artist_id &lt;chr&gt; | artist_mbid &lt;chr&gt; | artist_name &lt;chr&gt; | duration &lt;dbl&gt; | artist_familiarity &lt;dbl&gt; | artist_hotttnesss &lt;dbl&gt; | year &lt;int&gt; | track_7digitalid &lt;int&gt; | shs_perf &lt;int&gt; | shs_work &lt;int&gt; |\n",
       "|---|---|---|---|---|---|---|---|---|---|---|---|---|---|\n",
       "| TRMMMYQ128F932D901 | Silent Night                                                   | SOQMMHC12AB0180CB8 | Monster Ballads X-Mas                | ARYZTJS1187B98C555 | 357ff05d-848a-44cf-b608-cb34b5701ae5 | Faster Pussy cat | 252.0551 | 0.6498221 | 0.3940319 | 2003 | 7032331 | -1 | 0 |\n",
       "| TRMMMKD128F425225D | Tanssi vaan                                                    | SOVFVAK12A8C1350D9 | Karkuteillä                          | ARMVN3U1187FB3A1EB | 8d7ef530-a6fd-4f8f-b2e2-74aec765e0f9 | Karkkiautomaatti | 156.5514 | 0.4396040 | 0.3569921 | 1995 | 1514808 | -1 | 0 |\n",
       "| TRMMMRX128F93187D9 | No One Could Ever                                              | SOGTUKN12AB017F4F1 | Butter                               | ARGEKB01187FB50750 | 3d403d44-36ce-465c-ad43-ae877e65adc4 | Hudson Mohawke   | 138.9710 | 0.6436806 | 0.4375038 | 2006 | 6945353 | -1 | 0 |\n",
       "| TRMMMCH128F425532C | Si Vos Querés                                                  | SOBNYVR12A8C13558C | De Culo                              | ARNWYLR1187B9B2F9C | 12be7648-7094-495f-90e6-df4189d68615 | Yerba Brava      | 145.0575 | 0.4485012 | 0.3723491 | 2003 | 2168257 | -1 | 0 |\n",
       "| TRMMMWA128F426B589 | Tangle Of Aspens                                               | SOHSBXH12A8C13B0DF | Rene Ablaze Presents Winter Sessions | AREQDTE1269FB37231 | <!----> | Der Mystic       | 514.2983 | 0.0000000 | 0.0000000 |    0 | 2264873 | -1 | 0 |\n",
       "| TRMMMXN128F42936A5 | Symphony No. 1 G minor \"Sinfonie Serieuse\"/Allegro con energia | SOZVAPQ12A8C13B63C | Berwald: Symphonies Nos. 1/2/3/4     | AR2NS5Y1187FB5879D | d087b377-bab7-46c4-bd12-15debebb5d61 | David Montgomery | 816.5351 | 0.3612870 | 0.1096258 |    0 | 3360982 | -1 | 0 |\n",
       "\n"
      ],
      "text/plain": [
       "  track_id          \n",
       "1 TRMMMYQ128F932D901\n",
       "2 TRMMMKD128F425225D\n",
       "3 TRMMMRX128F93187D9\n",
       "4 TRMMMCH128F425532C\n",
       "5 TRMMMWA128F426B589\n",
       "6 TRMMMXN128F42936A5\n",
       "  title                                                         \n",
       "1 Silent Night                                                  \n",
       "2 Tanssi vaan                                                   \n",
       "3 No One Could Ever                                             \n",
       "4 Si Vos Querés                                                 \n",
       "5 Tangle Of Aspens                                              \n",
       "6 Symphony No. 1 G minor \"Sinfonie Serieuse\"/Allegro con energia\n",
       "  song_id            release                              artist_id         \n",
       "1 SOQMMHC12AB0180CB8 Monster Ballads X-Mas                ARYZTJS1187B98C555\n",
       "2 SOVFVAK12A8C1350D9 Karkuteillä                          ARMVN3U1187FB3A1EB\n",
       "3 SOGTUKN12AB017F4F1 Butter                               ARGEKB01187FB50750\n",
       "4 SOBNYVR12A8C13558C De Culo                              ARNWYLR1187B9B2F9C\n",
       "5 SOHSBXH12A8C13B0DF Rene Ablaze Presents Winter Sessions AREQDTE1269FB37231\n",
       "6 SOZVAPQ12A8C13B63C Berwald: Symphonies Nos. 1/2/3/4     AR2NS5Y1187FB5879D\n",
       "  artist_mbid                          artist_name      duration\n",
       "1 357ff05d-848a-44cf-b608-cb34b5701ae5 Faster Pussy cat 252.0551\n",
       "2 8d7ef530-a6fd-4f8f-b2e2-74aec765e0f9 Karkkiautomaatti 156.5514\n",
       "3 3d403d44-36ce-465c-ad43-ae877e65adc4 Hudson Mohawke   138.9710\n",
       "4 12be7648-7094-495f-90e6-df4189d68615 Yerba Brava      145.0575\n",
       "5                                      Der Mystic       514.2983\n",
       "6 d087b377-bab7-46c4-bd12-15debebb5d61 David Montgomery 816.5351\n",
       "  artist_familiarity artist_hotttnesss year track_7digitalid shs_perf shs_work\n",
       "1 0.6498221          0.3940319         2003 7032331          -1       0       \n",
       "2 0.4396040          0.3569921         1995 1514808          -1       0       \n",
       "3 0.6436806          0.4375038         2006 6945353          -1       0       \n",
       "4 0.4485012          0.3723491         2003 2168257          -1       0       \n",
       "5 0.0000000          0.0000000            0 2264873          -1       0       \n",
       "6 0.3612870          0.1096258            0 3360982          -1       0       "
      ]
     },
     "metadata": {},
     "output_type": "display_data"
    }
   ],
   "source": [
    "head(tracks)"
   ]
  },
  {
   "cell_type": "markdown",
   "id": "b456e57c-4a12-464b-999a-ef2df5af80c1",
   "metadata": {},
   "source": [
    "Markdown notes and sentences and analysis written here."
   ]
  },
  {
   "cell_type": "markdown",
   "id": "fc601975-35ed-4680-a4e1-0273ee3cc047",
   "metadata": {},
   "source": [
    "## Question 2"
   ]
  },
  {
   "cell_type": "code",
   "execution_count": 9,
   "id": "a16336a1-1ef0-41e8-bc7c-49387db27497",
   "metadata": {},
   "outputs": [],
   "source": [
    "tracks<-read.csv(\"/depot/datamine/data/amazon/tracks.csv\", sep=\"|\")"
   ]
  },
  {
   "cell_type": "code",
   "execution_count": 11,
   "id": "5fc6dbc9-3bb2-474d-bc57-83bd6aa907fd",
   "metadata": {},
   "outputs": [
    {
     "data": {
      "text/html": [
       "<dl class=dl-horizontal>\n",
       "\t<dt>0</dt>\n",
       "\t\t<dd>252.301709364854</dd>\n",
       "\t<dt>1922</dt>\n",
       "\t\t<dd>222.236281666667</dd>\n",
       "\t<dt>1924</dt>\n",
       "\t\t<dd>186.169016</dd>\n",
       "\t<dt>1925</dt>\n",
       "\t\t<dd>185.584618571429</dd>\n",
       "\t<dt>1926</dt>\n",
       "\t\t<dd>185.908892105263</dd>\n",
       "\t<dt>1927</dt>\n",
       "\t\t<dd>183.896727906977</dd>\n",
       "\t<dt>1928</dt>\n",
       "\t\t<dd>186.527395384615</dd>\n",
       "\t<dt>1929</dt>\n",
       "\t\t<dd>189.893177741935</dd>\n",
       "\t<dt>1930</dt>\n",
       "\t\t<dd>189.85162775</dd>\n",
       "\t<dt>1931</dt>\n",
       "\t\t<dd>197.758427428571</dd>\n",
       "\t<dt>1932</dt>\n",
       "\t\t<dd>188.679620909091</dd>\n",
       "\t<dt>1933</dt>\n",
       "\t\t<dd>179.556553333333</dd>\n",
       "\t<dt>1934</dt>\n",
       "\t\t<dd>184.016887241379</dd>\n",
       "\t<dt>1935</dt>\n",
       "\t\t<dd>185.03791375</dd>\n",
       "\t<dt>1936</dt>\n",
       "\t\t<dd>186.7478892</dd>\n",
       "\t<dt>1937</dt>\n",
       "\t\t<dd>181.443277857143</dd>\n",
       "\t<dt>1938</dt>\n",
       "\t\t<dd>166.926119473684</dd>\n",
       "\t<dt>1939</dt>\n",
       "\t\t<dd>191.369622571429</dd>\n",
       "\t<dt>1940</dt>\n",
       "\t\t<dd>170.821273846154</dd>\n",
       "\t<dt>1941</dt>\n",
       "\t\t<dd>177.6468928125</dd>\n",
       "\t<dt>1942</dt>\n",
       "\t\t<dd>177.111927916667</dd>\n",
       "\t<dt>1943</dt>\n",
       "\t\t<dd>166.30252</dd>\n",
       "\t<dt>1944</dt>\n",
       "\t\t<dd>161.767163333333</dd>\n",
       "\t<dt>1945</dt>\n",
       "\t\t<dd>175.378703333333</dd>\n",
       "\t<dt>1946</dt>\n",
       "\t\t<dd>171.856435172414</dd>\n",
       "\t<dt>1947</dt>\n",
       "\t\t<dd>172.047035964912</dd>\n",
       "\t<dt>1948</dt>\n",
       "\t\t<dd>186.806039302326</dd>\n",
       "\t<dt>1949</dt>\n",
       "\t\t<dd>177.531192666667</dd>\n",
       "\t<dt>1950</dt>\n",
       "\t\t<dd>175.419565952381</dd>\n",
       "\t<dt>1951</dt>\n",
       "\t\t<dd>189.008173108108</dd>\n",
       "\t<dt>1952</dt>\n",
       "\t\t<dd>166.777473116883</dd>\n",
       "\t<dt>1953</dt>\n",
       "\t\t<dd>174.612012857143</dd>\n",
       "\t<dt>1954</dt>\n",
       "\t\t<dd>199.942682113821</dd>\n",
       "\t<dt>1955</dt>\n",
       "\t\t<dd>185.046415381818</dd>\n",
       "\t<dt>1956</dt>\n",
       "\t\t<dd>198.028931415929</dd>\n",
       "\t<dt>1957</dt>\n",
       "\t\t<dd>212.331111705686</dd>\n",
       "\t<dt>1958</dt>\n",
       "\t\t<dd>179.887512349914</dd>\n",
       "\t<dt>1959</dt>\n",
       "\t\t<dd>188.592155439189</dd>\n",
       "\t<dt>1960</dt>\n",
       "\t\t<dd>191.940216580189</dd>\n",
       "\t<dt>1961</dt>\n",
       "\t\t<dd>211.591566066434</dd>\n",
       "\t<dt>1962</dt>\n",
       "\t\t<dd>209.577364066116</dd>\n",
       "\t<dt>1963</dt>\n",
       "\t\t<dd>180.313081108647</dd>\n",
       "\t<dt>1964</dt>\n",
       "\t\t<dd>196.922646825397</dd>\n",
       "\t<dt>1965</dt>\n",
       "\t\t<dd>204.971161866071</dd>\n",
       "\t<dt>1966</dt>\n",
       "\t\t<dd>185.948282229484</dd>\n",
       "\t<dt>1967</dt>\n",
       "\t\t<dd>196.336359650757</dd>\n",
       "\t<dt>1968</dt>\n",
       "\t\t<dd>209.911473347616</dd>\n",
       "\t<dt>1969</dt>\n",
       "\t\t<dd>229.142207218453</dd>\n",
       "\t<dt>1970</dt>\n",
       "\t\t<dd>245.224647638298</dd>\n",
       "\t<dt>1971</dt>\n",
       "\t\t<dd>245.595199352417</dd>\n",
       "\t<dt>1972</dt>\n",
       "\t\t<dd>249.726939130245</dd>\n",
       "\t<dt>1973</dt>\n",
       "\t\t<dd>250.979679237288</dd>\n",
       "\t<dt>1974</dt>\n",
       "\t\t<dd>248.274829990851</dd>\n",
       "\t<dt>1975</dt>\n",
       "\t\t<dd>258.274897167607</dd>\n",
       "\t<dt>1976</dt>\n",
       "\t\t<dd>255.108481950436</dd>\n",
       "\t<dt>1977</dt>\n",
       "\t\t<dd>250.999258629097</dd>\n",
       "\t<dt>1978</dt>\n",
       "\t\t<dd>245.410750198223</dd>\n",
       "\t<dt>1979</dt>\n",
       "\t\t<dd>245.405867931145</dd>\n",
       "\t<dt>1980</dt>\n",
       "\t\t<dd>237.437587978072</dd>\n",
       "\t<dt>1981</dt>\n",
       "\t\t<dd>238.901228310704</dd>\n",
       "\t<dt>1982</dt>\n",
       "\t\t<dd>232.929323956075</dd>\n",
       "\t<dt>1983</dt>\n",
       "\t\t<dd>239.754137489663</dd>\n",
       "\t<dt>1984</dt>\n",
       "\t\t<dd>243.27543189133</dd>\n",
       "\t<dt>1985</dt>\n",
       "\t\t<dd>250.009722982113</dd>\n",
       "\t<dt>1986</dt>\n",
       "\t\t<dd>244.719893632701</dd>\n",
       "\t<dt>1987</dt>\n",
       "\t\t<dd>237.883054770732</dd>\n",
       "\t<dt>1988</dt>\n",
       "\t\t<dd>242.149608368074</dd>\n",
       "\t<dt>1989</dt>\n",
       "\t\t<dd>241.546573402278</dd>\n",
       "\t<dt>1990</dt>\n",
       "\t\t<dd>240.881231350234</dd>\n",
       "\t<dt>1991</dt>\n",
       "\t\t<dd>242.517865320231</dd>\n",
       "\t<dt>1992</dt>\n",
       "\t\t<dd>245.002125163926</dd>\n",
       "\t<dt>1993</dt>\n",
       "\t\t<dd>246.611405321493</dd>\n",
       "\t<dt>1994</dt>\n",
       "\t\t<dd>246.568161997196</dd>\n",
       "\t<dt>1995</dt>\n",
       "\t\t<dd>250.449648263198</dd>\n",
       "\t<dt>1996</dt>\n",
       "\t\t<dd>247.590967581181</dd>\n",
       "\t<dt>1997</dt>\n",
       "\t\t<dd>252.237227300092</dd>\n",
       "\t<dt>1998</dt>\n",
       "\t\t<dd>252.059118866818</dd>\n",
       "\t<dt>1999</dt>\n",
       "\t\t<dd>251.082857312452</dd>\n",
       "\t<dt>2000</dt>\n",
       "\t\t<dd>251.415729523661</dd>\n",
       "\t<dt>2001</dt>\n",
       "\t\t<dd>254.421157711072</dd>\n",
       "\t<dt>2002</dt>\n",
       "\t\t<dd>249.592246309646</dd>\n",
       "\t<dt>2003</dt>\n",
       "\t\t<dd>246.78189993282</dd>\n",
       "\t<dt>2004</dt>\n",
       "\t\t<dd>248.306875103991</dd>\n",
       "\t<dt>2005</dt>\n",
       "\t\t<dd>245.18002133524</dd>\n",
       "\t<dt>2006</dt>\n",
       "\t\t<dd>247.905315124913</dd>\n",
       "\t<dt>2007</dt>\n",
       "\t\t<dd>249.699394699853</dd>\n",
       "\t<dt>2008</dt>\n",
       "\t\t<dd>250.912837644521</dd>\n",
       "\t<dt>2009</dt>\n",
       "\t\t<dd>249.941719840263</dd>\n",
       "\t<dt>2010</dt>\n",
       "\t\t<dd>250.415013574545</dd>\n",
       "\t<dt>2011</dt>\n",
       "\t\t<dd>185.05098</dd>\n",
       "</dl>\n"
      ],
      "text/latex": [
       "\\begin{description*}\n",
       "\\item[0] 252.301709364854\n",
       "\\item[1922] 222.236281666667\n",
       "\\item[1924] 186.169016\n",
       "\\item[1925] 185.584618571429\n",
       "\\item[1926] 185.908892105263\n",
       "\\item[1927] 183.896727906977\n",
       "\\item[1928] 186.527395384615\n",
       "\\item[1929] 189.893177741935\n",
       "\\item[1930] 189.85162775\n",
       "\\item[1931] 197.758427428571\n",
       "\\item[1932] 188.679620909091\n",
       "\\item[1933] 179.556553333333\n",
       "\\item[1934] 184.016887241379\n",
       "\\item[1935] 185.03791375\n",
       "\\item[1936] 186.7478892\n",
       "\\item[1937] 181.443277857143\n",
       "\\item[1938] 166.926119473684\n",
       "\\item[1939] 191.369622571429\n",
       "\\item[1940] 170.821273846154\n",
       "\\item[1941] 177.6468928125\n",
       "\\item[1942] 177.111927916667\n",
       "\\item[1943] 166.30252\n",
       "\\item[1944] 161.767163333333\n",
       "\\item[1945] 175.378703333333\n",
       "\\item[1946] 171.856435172414\n",
       "\\item[1947] 172.047035964912\n",
       "\\item[1948] 186.806039302326\n",
       "\\item[1949] 177.531192666667\n",
       "\\item[1950] 175.419565952381\n",
       "\\item[1951] 189.008173108108\n",
       "\\item[1952] 166.777473116883\n",
       "\\item[1953] 174.612012857143\n",
       "\\item[1954] 199.942682113821\n",
       "\\item[1955] 185.046415381818\n",
       "\\item[1956] 198.028931415929\n",
       "\\item[1957] 212.331111705686\n",
       "\\item[1958] 179.887512349914\n",
       "\\item[1959] 188.592155439189\n",
       "\\item[1960] 191.940216580189\n",
       "\\item[1961] 211.591566066434\n",
       "\\item[1962] 209.577364066116\n",
       "\\item[1963] 180.313081108647\n",
       "\\item[1964] 196.922646825397\n",
       "\\item[1965] 204.971161866071\n",
       "\\item[1966] 185.948282229484\n",
       "\\item[1967] 196.336359650757\n",
       "\\item[1968] 209.911473347616\n",
       "\\item[1969] 229.142207218453\n",
       "\\item[1970] 245.224647638298\n",
       "\\item[1971] 245.595199352417\n",
       "\\item[1972] 249.726939130245\n",
       "\\item[1973] 250.979679237288\n",
       "\\item[1974] 248.274829990851\n",
       "\\item[1975] 258.274897167607\n",
       "\\item[1976] 255.108481950436\n",
       "\\item[1977] 250.999258629097\n",
       "\\item[1978] 245.410750198223\n",
       "\\item[1979] 245.405867931145\n",
       "\\item[1980] 237.437587978072\n",
       "\\item[1981] 238.901228310704\n",
       "\\item[1982] 232.929323956075\n",
       "\\item[1983] 239.754137489663\n",
       "\\item[1984] 243.27543189133\n",
       "\\item[1985] 250.009722982113\n",
       "\\item[1986] 244.719893632701\n",
       "\\item[1987] 237.883054770732\n",
       "\\item[1988] 242.149608368074\n",
       "\\item[1989] 241.546573402278\n",
       "\\item[1990] 240.881231350234\n",
       "\\item[1991] 242.517865320231\n",
       "\\item[1992] 245.002125163926\n",
       "\\item[1993] 246.611405321493\n",
       "\\item[1994] 246.568161997196\n",
       "\\item[1995] 250.449648263198\n",
       "\\item[1996] 247.590967581181\n",
       "\\item[1997] 252.237227300092\n",
       "\\item[1998] 252.059118866818\n",
       "\\item[1999] 251.082857312452\n",
       "\\item[2000] 251.415729523661\n",
       "\\item[2001] 254.421157711072\n",
       "\\item[2002] 249.592246309646\n",
       "\\item[2003] 246.78189993282\n",
       "\\item[2004] 248.306875103991\n",
       "\\item[2005] 245.18002133524\n",
       "\\item[2006] 247.905315124913\n",
       "\\item[2007] 249.699394699853\n",
       "\\item[2008] 250.912837644521\n",
       "\\item[2009] 249.941719840263\n",
       "\\item[2010] 250.415013574545\n",
       "\\item[2011] 185.05098\n",
       "\\end{description*}\n"
      ],
      "text/markdown": [
       "0\n",
       ":   252.3017093648541922\n",
       ":   222.2362816666671924\n",
       ":   186.1690161925\n",
       ":   185.5846185714291926\n",
       ":   185.9088921052631927\n",
       ":   183.8967279069771928\n",
       ":   186.5273953846151929\n",
       ":   189.8931777419351930\n",
       ":   189.851627751931\n",
       ":   197.7584274285711932\n",
       ":   188.6796209090911933\n",
       ":   179.5565533333331934\n",
       ":   184.0168872413791935\n",
       ":   185.037913751936\n",
       ":   186.74788921937\n",
       ":   181.4432778571431938\n",
       ":   166.9261194736841939\n",
       ":   191.3696225714291940\n",
       ":   170.8212738461541941\n",
       ":   177.64689281251942\n",
       ":   177.1119279166671943\n",
       ":   166.302521944\n",
       ":   161.7671633333331945\n",
       ":   175.3787033333331946\n",
       ":   171.8564351724141947\n",
       ":   172.0470359649121948\n",
       ":   186.8060393023261949\n",
       ":   177.5311926666671950\n",
       ":   175.4195659523811951\n",
       ":   189.0081731081081952\n",
       ":   166.7774731168831953\n",
       ":   174.6120128571431954\n",
       ":   199.9426821138211955\n",
       ":   185.0464153818181956\n",
       ":   198.0289314159291957\n",
       ":   212.3311117056861958\n",
       ":   179.8875123499141959\n",
       ":   188.5921554391891960\n",
       ":   191.9402165801891961\n",
       ":   211.5915660664341962\n",
       ":   209.5773640661161963\n",
       ":   180.3130811086471964\n",
       ":   196.9226468253971965\n",
       ":   204.9711618660711966\n",
       ":   185.9482822294841967\n",
       ":   196.3363596507571968\n",
       ":   209.9114733476161969\n",
       ":   229.1422072184531970\n",
       ":   245.2246476382981971\n",
       ":   245.5951993524171972\n",
       ":   249.7269391302451973\n",
       ":   250.9796792372881974\n",
       ":   248.2748299908511975\n",
       ":   258.2748971676071976\n",
       ":   255.1084819504361977\n",
       ":   250.9992586290971978\n",
       ":   245.4107501982231979\n",
       ":   245.4058679311451980\n",
       ":   237.4375879780721981\n",
       ":   238.9012283107041982\n",
       ":   232.9293239560751983\n",
       ":   239.7541374896631984\n",
       ":   243.275431891331985\n",
       ":   250.0097229821131986\n",
       ":   244.7198936327011987\n",
       ":   237.8830547707321988\n",
       ":   242.1496083680741989\n",
       ":   241.5465734022781990\n",
       ":   240.8812313502341991\n",
       ":   242.5178653202311992\n",
       ":   245.0021251639261993\n",
       ":   246.6114053214931994\n",
       ":   246.5681619971961995\n",
       ":   250.4496482631981996\n",
       ":   247.5909675811811997\n",
       ":   252.2372273000921998\n",
       ":   252.0591188668181999\n",
       ":   251.0828573124522000\n",
       ":   251.4157295236612001\n",
       ":   254.4211577110722002\n",
       ":   249.5922463096462003\n",
       ":   246.781899932822004\n",
       ":   248.3068751039912005\n",
       ":   245.180021335242006\n",
       ":   247.9053151249132007\n",
       ":   249.6993946998532008\n",
       ":   250.9128376445212009\n",
       ":   249.9417198402632010\n",
       ":   250.4150135745452011\n",
       ":   185.05098\n",
       "\n"
      ],
      "text/plain": [
       "       0     1922     1924     1925     1926     1927     1928     1929 \n",
       "252.3017 222.2363 186.1690 185.5846 185.9089 183.8967 186.5274 189.8932 \n",
       "    1930     1931     1932     1933     1934     1935     1936     1937 \n",
       "189.8516 197.7584 188.6796 179.5566 184.0169 185.0379 186.7479 181.4433 \n",
       "    1938     1939     1940     1941     1942     1943     1944     1945 \n",
       "166.9261 191.3696 170.8213 177.6469 177.1119 166.3025 161.7672 175.3787 \n",
       "    1946     1947     1948     1949     1950     1951     1952     1953 \n",
       "171.8564 172.0470 186.8060 177.5312 175.4196 189.0082 166.7775 174.6120 \n",
       "    1954     1955     1956     1957     1958     1959     1960     1961 \n",
       "199.9427 185.0464 198.0289 212.3311 179.8875 188.5922 191.9402 211.5916 \n",
       "    1962     1963     1964     1965     1966     1967     1968     1969 \n",
       "209.5774 180.3131 196.9226 204.9712 185.9483 196.3364 209.9115 229.1422 \n",
       "    1970     1971     1972     1973     1974     1975     1976     1977 \n",
       "245.2246 245.5952 249.7269 250.9797 248.2748 258.2749 255.1085 250.9993 \n",
       "    1978     1979     1980     1981     1982     1983     1984     1985 \n",
       "245.4108 245.4059 237.4376 238.9012 232.9293 239.7541 243.2754 250.0097 \n",
       "    1986     1987     1988     1989     1990     1991     1992     1993 \n",
       "244.7199 237.8831 242.1496 241.5466 240.8812 242.5179 245.0021 246.6114 \n",
       "    1994     1995     1996     1997     1998     1999     2000     2001 \n",
       "246.5682 250.4496 247.5910 252.2372 252.0591 251.0829 251.4157 254.4212 \n",
       "    2002     2003     2004     2005     2006     2007     2008     2009 \n",
       "249.5922 246.7819 248.3069 245.1800 247.9053 249.6994 250.9128 249.9417 \n",
       "    2010     2011 \n",
       "250.4150 185.0510 "
      ]
     },
     "metadata": {},
     "output_type": "display_data"
    }
   ],
   "source": [
    "tapply(tracks$duration, tracks$year, mean)"
   ]
  },
  {
   "cell_type": "code",
   "execution_count": 14,
   "id": "d97a431b-6b44-49c0-9b09-d5bc4caba4bf",
   "metadata": {},
   "outputs": [
    {
     "data": {
      "text/html": [
       "<table>\n",
       "<caption>A data.frame: 6 x 2</caption>\n",
       "<thead>\n",
       "\t<tr><th scope=col>year</th><th scope=col>average_duration</th></tr>\n",
       "\t<tr><th scope=col>&lt;int&gt;</th><th scope=col>&lt;dbl&gt;</th></tr>\n",
       "</thead>\n",
       "<tbody>\n",
       "\t<tr><td>   0</td><td>252.3017</td></tr>\n",
       "\t<tr><td>1922</td><td>222.2363</td></tr>\n",
       "\t<tr><td>1924</td><td>186.1690</td></tr>\n",
       "\t<tr><td>1925</td><td>185.5846</td></tr>\n",
       "\t<tr><td>1926</td><td>185.9089</td></tr>\n",
       "\t<tr><td>1927</td><td>183.8967</td></tr>\n",
       "</tbody>\n",
       "</table>\n"
      ],
      "text/latex": [
       "A data.frame: 6 x 2\n",
       "\\begin{tabular}{r|ll}\n",
       " year & average\\_duration\\\\\n",
       " <int> & <dbl>\\\\\n",
       "\\hline\n",
       "\t    0 & 252.3017\\\\\n",
       "\t 1922 & 222.2363\\\\\n",
       "\t 1924 & 186.1690\\\\\n",
       "\t 1925 & 185.5846\\\\\n",
       "\t 1926 & 185.9089\\\\\n",
       "\t 1927 & 183.8967\\\\\n",
       "\\end{tabular}\n"
      ],
      "text/markdown": [
       "\n",
       "A data.frame: 6 x 2\n",
       "\n",
       "| year &lt;int&gt; | average_duration &lt;dbl&gt; |\n",
       "|---|---|\n",
       "|    0 | 252.3017 |\n",
       "| 1922 | 222.2363 |\n",
       "| 1924 | 186.1690 |\n",
       "| 1925 | 185.5846 |\n",
       "| 1926 | 185.9089 |\n",
       "| 1927 | 183.8967 |\n",
       "\n"
      ],
      "text/plain": [
       "  year average_duration\n",
       "1    0 252.3017        \n",
       "2 1922 222.2363        \n",
       "3 1924 186.1690        \n",
       "4 1925 185.5846        \n",
       "5 1926 185.9089        \n",
       "6 1927 183.8967        "
      ]
     },
     "metadata": {},
     "output_type": "display_data"
    }
   ],
   "source": [
    "library(RSQLite)\n",
    "\n",
    "con <- dbConnect(SQLite(), dbname = \"/depot/datamine/data/amazon/tracks.db\")\n",
    "myDF <- dbGetQuery(con, \"SELECT year, AVG(duration) AS average_duration FROM songs GROUP BY year;\")\n",
    "head(myDF)"
   ]
  },
  {
   "cell_type": "markdown",
   "id": "14dc22d4-ddc3-41cc-a91a-cb0025bc0c80",
   "metadata": {},
   "source": [
    "The two methods gave the same answers. The answers generated by tapply had more precision."
   ]
  },
  {
   "cell_type": "markdown",
   "id": "8e586edd-ff26-4ce2-8f6b-2424b26f2929",
   "metadata": {},
   "source": [
    "## Question 3"
   ]
  },
  {
   "cell_type": "code",
   "execution_count": 17,
   "id": "bbe0f40d-9655-4653-9ca8-886bdb61cb91",
   "metadata": {},
   "outputs": [],
   "source": [
    "v<-tapply(tracks$duration ,tracks$year ,mean)"
   ]
  },
  {
   "cell_type": "code",
   "execution_count": 19,
   "id": "7980885b-a5c5-4a7d-ade3-8fd9e452c645",
   "metadata": {},
   "outputs": [
    {
     "data": {
      "text/html": [
       "<ol class=list-inline>\n",
       "\t<li>0</li>\n",
       "\t<li>1922</li>\n",
       "\t<li>1924</li>\n",
       "\t<li>1925</li>\n",
       "\t<li>1926</li>\n",
       "\t<li>1927</li>\n",
       "</ol>\n"
      ],
      "text/latex": [
       "\\begin{enumerate*}\n",
       "\\item 0\n",
       "\\item 1922\n",
       "\\item 1924\n",
       "\\item 1925\n",
       "\\item 1926\n",
       "\\item 1927\n",
       "\\end{enumerate*}\n"
      ],
      "text/markdown": [
       "1. 0\n",
       "2. 1922\n",
       "3. 1924\n",
       "4. 1925\n",
       "5. 1926\n",
       "6. 1927\n",
       "\n",
       "\n"
      ],
      "text/plain": [
       "[1]    0 1922 1924 1925 1926 1927"
      ]
     },
     "metadata": {},
     "output_type": "display_data"
    }
   ],
   "source": [
    "head(as.numeric(names(v)))"
   ]
  },
  {
   "cell_type": "code",
   "execution_count": 21,
   "id": "549bf027-6f05-41e9-ba16-49a6c630609e",
   "metadata": {},
   "outputs": [
    {
     "data": {
      "text/html": [
       "90"
      ],
      "text/latex": [
       "90"
      ],
      "text/markdown": [
       "90"
      ],
      "text/plain": [
       "[1] 90"
      ]
     },
     "metadata": {},
     "output_type": "display_data"
    }
   ],
   "source": [
    "length(v)"
   ]
  },
  {
   "cell_type": "code",
   "execution_count": 22,
   "id": "fdd4227e-8e17-4bba-9dba-ebd86ba15b2a",
   "metadata": {},
   "outputs": [
    {
     "data": {
      "image/png": "[encoded data removed]",
      "text/plain": [
       "plot without title"
      ]
     },
     "metadata": {
      "image/png": {
       "height": 420,
       "width": 420
      }
     },
     "output_type": "display_data"
    }
   ],
   "source": [
    "plot(as.numeric(names(v))[2:90],v[2:90])"
   ]
  },
  {
   "cell_type": "markdown",
   "id": "47c6229f-35f7-400c-8366-c442baa5cf47",
   "metadata": {},
   "source": [
    "As the year increases the duration of songs got longer."
   ]
  },
  {
   "cell_type": "markdown",
   "id": "da22f29c-d245-4d2b-9fc1-ca14cb6087d9",
   "metadata": {},
   "source": [
    "## Question 4"
   ]
  },
  {
   "cell_type": "code",
   "execution_count": null,
   "id": "079fc652-d7f4-40cf-bbb6-8d31fe07cf9f",
   "metadata": {},
   "outputs": [],
   "source": [
    "tracks<-read.csv(\"/depot/datamine/data/amazon/tracks.csv\", sep=\"|\")"
   ]
  },
  {
   "cell_type": "code",
   "execution_count": 26,
   "id": "23ebf13e-33b6-4508-ac22-6d35ed7dffac",
   "metadata": {},
   "outputs": [],
   "source": [
    "artist<-tapply(tracks$duration ,tracks$artist_name ,median)"
   ]
  },
  {
   "cell_type": "code",
   "execution_count": 27,
   "id": "8cffc767-d1c8-4d64-b7dc-f0d2ee8a80d1",
   "metadata": {},
   "outputs": [
    {
     "data": {
      "text/html": [
       "72665"
      ],
      "text/latex": [
       "72665"
      ],
      "text/markdown": [
       "72665"
      ],
      "text/plain": [
       "[1] 72665"
      ]
     },
     "metadata": {},
     "output_type": "display_data"
    }
   ],
   "source": [
    "length(artist)"
   ]
  },
  {
   "cell_type": "code",
   "execution_count": 35,
   "id": "99e4cd4e-aa36-4258-92a9-5b89fc3e6439",
   "metadata": {},
   "outputs": [
    {
     "data": {
      "text/html": [
       "<dl class=dl-horizontal>\n",
       "\t<dt>Ustad Rashid Khan</dt>\n",
       "\t\t<dd>3033.59955</dd>\n",
       "\t<dt>Galexis</dt>\n",
       "\t\t<dd>3033.44281</dd>\n",
       "\t<dt>Heiko Grauel</dt>\n",
       "\t\t<dd>3032.58077</dd>\n",
       "\t<dt>Kushal Das</dt>\n",
       "\t\t<dd>3032.5024</dd>\n",
       "\t<dt>Francis B</dt>\n",
       "\t\t<dd>3030.62159</dd>\n",
       "</dl>\n"
      ],
      "text/latex": [
       "\\begin{description*}\n",
       "\\item[Ustad Rashid Khan] 3033.59955\n",
       "\\item[Galexis] 3033.44281\n",
       "\\item[Heiko Grauel] 3032.58077\n",
       "\\item[Kushal Das] 3032.5024\n",
       "\\item[Francis B] 3030.62159\n",
       "\\end{description*}\n"
      ],
      "text/markdown": [
       "Ustad Rashid Khan\n",
       ":   3033.59955Galexis\n",
       ":   3033.44281Heiko Grauel\n",
       ":   3032.58077Kushal Das\n",
       ":   3032.5024Francis B\n",
       ":   3030.62159\n",
       "\n"
      ],
      "text/plain": [
       "Ustad Rashid Khan           Galexis      Heiko Grauel        Kushal Das \n",
       "         3033.600          3033.443          3032.581          3032.502 \n",
       "        Francis B \n",
       "         3030.622 "
      ]
     },
     "metadata": {},
     "output_type": "display_data"
    }
   ],
   "source": [
    "head(sort(artist,decreasing=T),n=5)"
   ]
  },
  {
   "cell_type": "code",
   "execution_count": 37,
   "id": "a3bff448-f56a-4472-85ff-e38a73bcad19",
   "metadata": {},
   "outputs": [
    {
     "data": {
      "text/html": [
       "<dl class=dl-horizontal>\n",
       "\t<dt>Trío Trovarroco</dt>\n",
       "\t\t<dd>0.46975</dd>\n",
       "\t<dt>Trulz &amp; Robin feat. Baseman</dt>\n",
       "\t\t<dd>0.46975</dd>\n",
       "\t<dt>Zeta Funk</dt>\n",
       "\t\t<dd>0.44363</dd>\n",
       "\t<dt>Helmut Zacharias - Geige Violin - And His Orchestra</dt>\n",
       "\t\t<dd>0.41751</dd>\n",
       "\t<dt>Las Pajarillas</dt>\n",
       "\t\t<dd>0.41751</dd>\n",
       "</dl>\n"
      ],
      "text/latex": [
       "\\begin{description*}\n",
       "\\item[Trío Trovarroco] 0.46975\n",
       "\\item[Trulz \\textbackslash{}\\& Robin feat. Baseman] 0.46975\n",
       "\\item[Zeta Funk] 0.44363\n",
       "\\item[Helmut Zacharias - Geige Violin - And His Orchestra] 0.41751\n",
       "\\item[Las Pajarillas] 0.41751\n",
       "\\end{description*}\n"
      ],
      "text/markdown": [
       "Trío Trovarroco\n",
       ":   0.46975Trulz &amp;amp; Robin feat. Baseman\n",
       ":   0.46975Zeta Funk\n",
       ":   0.44363Helmut Zacharias - Geige Violin - And His Orchestra\n",
       ":   0.41751Las Pajarillas\n",
       ":   0.41751\n",
       "\n"
      ],
      "text/plain": [
       "                                    Trío Trovarroco \n",
       "                                            0.46975 \n",
       "                        Trulz & Robin feat. Baseman \n",
       "                                            0.46975 \n",
       "                                          Zeta Funk \n",
       "                                            0.44363 \n",
       "Helmut Zacharias - Geige Violin - And His Orchestra \n",
       "                                            0.41751 \n",
       "                                     Las Pajarillas \n",
       "                                            0.41751 "
      ]
     },
     "metadata": {},
     "output_type": "display_data"
    }
   ],
   "source": [
    "tail(sort(artist, decreasing=T),n=5)"
   ]
  },
  {
   "cell_type": "markdown",
   "id": "0d552245-b4d6-474a-9cc9-fa7b8e674d55",
   "metadata": {},
   "source": [
    "Markdown notes and sentences and analysis written here."
   ]
  },
  {
   "cell_type": "markdown",
   "id": "88c9cdac-3e92-498f-83fa-e089bfc44ac8",
   "metadata": {},
   "source": [
    "## Question 5"
   ]
  },
  {
   "cell_type": "markdown",
   "id": "166ac9ba-8142-4def-a993-60a476f2684a",
   "metadata": {},
   "source": [
    "Question-To see what the average artist hotness was by each year"
   ]
  },
  {
   "cell_type": "code",
   "execution_count": 41,
   "id": "eef3938e-479a-4294-9319-6e3cfc20aa4d",
   "metadata": {},
   "outputs": [
    {
     "data": {
      "text/html": [
       "<dl class=dl-horizontal>\n",
       "\t<dt>0</dt>\n",
       "\t\t<dd>0.341490231276056</dd>\n",
       "\t<dt>1922</dt>\n",
       "\t\t<dd>0.403985913865333</dd>\n",
       "\t<dt>1924</dt>\n",
       "\t\t<dd>0.2936438553342</dd>\n",
       "\t<dt>1925</dt>\n",
       "\t\t<dd>0.305034013242286</dd>\n",
       "\t<dt>1926</dt>\n",
       "\t\t<dd>0.334144689533947</dd>\n",
       "\t<dt>1927</dt>\n",
       "\t\t<dd>0.354226614136395</dd>\n",
       "\t<dt>1928</dt>\n",
       "\t\t<dd>0.375161832755615</dd>\n",
       "\t<dt>1929</dt>\n",
       "\t\t<dd>0.336747067348215</dd>\n",
       "\t<dt>1930</dt>\n",
       "\t\t<dd>0.3787212986523</dd>\n",
       "\t<dt>1931</dt>\n",
       "\t\t<dd>0.4104796052586</dd>\n",
       "\t<dt>1932</dt>\n",
       "\t\t<dd>0.374765091993455</dd>\n",
       "\t<dt>1933</dt>\n",
       "\t\t<dd>0.370003219346833</dd>\n",
       "\t<dt>1934</dt>\n",
       "\t\t<dd>0.358210644235345</dd>\n",
       "\t<dt>1935</dt>\n",
       "\t\t<dd>0.364708152793333</dd>\n",
       "\t<dt>1936</dt>\n",
       "\t\t<dd>0.42653782397976</dd>\n",
       "\t<dt>1937</dt>\n",
       "\t\t<dd>0.398198312346429</dd>\n",
       "\t<dt>1938</dt>\n",
       "\t\t<dd>0.373411062784947</dd>\n",
       "\t<dt>1939</dt>\n",
       "\t\t<dd>0.4403871494244</dd>\n",
       "\t<dt>1940</dt>\n",
       "\t\t<dd>0.394902787769365</dd>\n",
       "\t<dt>1941</dt>\n",
       "\t\t<dd>0.357500146126813</dd>\n",
       "\t<dt>1942</dt>\n",
       "\t\t<dd>0.442414197295375</dd>\n",
       "\t<dt>1943</dt>\n",
       "\t\t<dd>0.296850971704071</dd>\n",
       "\t<dt>1944</dt>\n",
       "\t\t<dd>0.3861363005716</dd>\n",
       "\t<dt>1945</dt>\n",
       "\t\t<dd>0.391416176173733</dd>\n",
       "\t<dt>1946</dt>\n",
       "\t\t<dd>0.40849058767831</dd>\n",
       "\t<dt>1947</dt>\n",
       "\t\t<dd>0.396392403791982</dd>\n",
       "\t<dt>1948</dt>\n",
       "\t\t<dd>0.369570451716279</dd>\n",
       "\t<dt>1949</dt>\n",
       "\t\t<dd>0.4071056637482</dd>\n",
       "\t<dt>1950</dt>\n",
       "\t\t<dd>0.397193674828643</dd>\n",
       "\t<dt>1951</dt>\n",
       "\t\t<dd>0.428412985649851</dd>\n",
       "\t<dt>1952</dt>\n",
       "\t\t<dd>0.394422988781299</dd>\n",
       "\t<dt>1953</dt>\n",
       "\t\t<dd>0.399153188007391</dd>\n",
       "\t<dt>1954</dt>\n",
       "\t\t<dd>0.442476988010528</dd>\n",
       "\t<dt>1955</dt>\n",
       "\t\t<dd>0.417867359481855</dd>\n",
       "\t<dt>1956</dt>\n",
       "\t\t<dd>0.443344226270926</dd>\n",
       "\t<dt>1957</dt>\n",
       "\t\t<dd>0.445036599673503</dd>\n",
       "\t<dt>1958</dt>\n",
       "\t\t<dd>0.429891615104144</dd>\n",
       "\t<dt>1959</dt>\n",
       "\t\t<dd>0.434476820603922</dd>\n",
       "\t<dt>1960</dt>\n",
       "\t\t<dd>0.432792189327724</dd>\n",
       "\t<dt>1961</dt>\n",
       "\t\t<dd>0.408782255364133</dd>\n",
       "\t<dt>1962</dt>\n",
       "\t\t<dd>0.412774358407284</dd>\n",
       "\t<dt>1963</dt>\n",
       "\t\t<dd>0.402660096847895</dd>\n",
       "\t<dt>1964</dt>\n",
       "\t\t<dd>0.421651016381033</dd>\n",
       "\t<dt>1965</dt>\n",
       "\t\t<dd>0.430180908111156</dd>\n",
       "\t<dt>1966</dt>\n",
       "\t\t<dd>0.425972646131545</dd>\n",
       "\t<dt>1967</dt>\n",
       "\t\t<dd>0.433132377669957</dd>\n",
       "\t<dt>1968</dt>\n",
       "\t\t<dd>0.421452873893304</dd>\n",
       "\t<dt>1969</dt>\n",
       "\t\t<dd>0.416452964278683</dd>\n",
       "\t<dt>1970</dt>\n",
       "\t\t<dd>0.41933960295604</dd>\n",
       "\t<dt>1971</dt>\n",
       "\t\t<dd>0.425173392260905</dd>\n",
       "\t<dt>1972</dt>\n",
       "\t\t<dd>0.430047464977619</dd>\n",
       "\t<dt>1973</dt>\n",
       "\t\t<dd>0.426372395730349</dd>\n",
       "\t<dt>1974</dt>\n",
       "\t\t<dd>0.429465394751495</dd>\n",
       "\t<dt>1975</dt>\n",
       "\t\t<dd>0.421754652811927</dd>\n",
       "\t<dt>1976</dt>\n",
       "\t\t<dd>0.424824066381161</dd>\n",
       "\t<dt>1977</dt>\n",
       "\t\t<dd>0.432824481780444</dd>\n",
       "\t<dt>1978</dt>\n",
       "\t\t<dd>0.42792809838258</dd>\n",
       "\t<dt>1979</dt>\n",
       "\t\t<dd>0.426456010775481</dd>\n",
       "\t<dt>1980</dt>\n",
       "\t\t<dd>0.435480438432187</dd>\n",
       "\t<dt>1981</dt>\n",
       "\t\t<dd>0.428259218372182</dd>\n",
       "\t<dt>1982</dt>\n",
       "\t\t<dd>0.424597780333971</dd>\n",
       "\t<dt>1983</dt>\n",
       "\t\t<dd>0.43516110602717</dd>\n",
       "\t<dt>1984</dt>\n",
       "\t\t<dd>0.433778812635148</dd>\n",
       "\t<dt>1985</dt>\n",
       "\t\t<dd>0.431183546206452</dd>\n",
       "\t<dt>1986</dt>\n",
       "\t\t<dd>0.42560011231256</dd>\n",
       "\t<dt>1987</dt>\n",
       "\t\t<dd>0.425256814365375</dd>\n",
       "\t<dt>1988</dt>\n",
       "\t\t<dd>0.415739972261586</dd>\n",
       "\t<dt>1989</dt>\n",
       "\t\t<dd>0.41450927215403</dd>\n",
       "\t<dt>1990</dt>\n",
       "\t\t<dd>0.406745884703454</dd>\n",
       "\t<dt>1991</dt>\n",
       "\t\t<dd>0.409243655058462</dd>\n",
       "\t<dt>1992</dt>\n",
       "\t\t<dd>0.408436698539632</dd>\n",
       "\t<dt>1993</dt>\n",
       "\t\t<dd>0.405552478821774</dd>\n",
       "\t<dt>1994</dt>\n",
       "\t\t<dd>0.404908139050063</dd>\n",
       "\t<dt>1995</dt>\n",
       "\t\t<dd>0.406638627247008</dd>\n",
       "\t<dt>1996</dt>\n",
       "\t\t<dd>0.406552211299422</dd>\n",
       "\t<dt>1997</dt>\n",
       "\t\t<dd>0.404419158854459</dd>\n",
       "\t<dt>1998</dt>\n",
       "\t\t<dd>0.403608591230663</dd>\n",
       "\t<dt>1999</dt>\n",
       "\t\t<dd>0.408712442533208</dd>\n",
       "\t<dt>2000</dt>\n",
       "\t\t<dd>0.407121085656961</dd>\n",
       "\t<dt>2001</dt>\n",
       "\t\t<dd>0.407510681347504</dd>\n",
       "\t<dt>2002</dt>\n",
       "\t\t<dd>0.407257315769092</dd>\n",
       "\t<dt>2003</dt>\n",
       "\t\t<dd>0.417677604270494</dd>\n",
       "\t<dt>2004</dt>\n",
       "\t\t<dd>0.410729283068682</dd>\n",
       "\t<dt>2005</dt>\n",
       "\t\t<dd>0.409883488893155</dd>\n",
       "\t<dt>2006</dt>\n",
       "\t\t<dd>0.410067861575692</dd>\n",
       "\t<dt>2007</dt>\n",
       "\t\t<dd>0.422164939714901</dd>\n",
       "\t<dt>2008</dt>\n",
       "\t\t<dd>0.42743366213424</dd>\n",
       "\t<dt>2009</dt>\n",
       "\t\t<dd>0.433812244255591</dd>\n",
       "\t<dt>2010</dt>\n",
       "\t\t<dd>0.445675474053717</dd>\n",
       "\t<dt>2011</dt>\n",
       "\t\t<dd>0.532538585446</dd>\n",
       "</dl>\n"
      ],
      "text/latex": [
       "\\begin{description*}\n",
       "\\item[0] 0.341490231276056\n",
       "\\item[1922] 0.403985913865333\n",
       "\\item[1924] 0.2936438553342\n",
       "\\item[1925] 0.305034013242286\n",
       "\\item[1926] 0.334144689533947\n",
       "\\item[1927] 0.354226614136395\n",
       "\\item[1928] 0.375161832755615\n",
       "\\item[1929] 0.336747067348215\n",
       "\\item[1930] 0.3787212986523\n",
       "\\item[1931] 0.4104796052586\n",
       "\\item[1932] 0.374765091993455\n",
       "\\item[1933] 0.370003219346833\n",
       "\\item[1934] 0.358210644235345\n",
       "\\item[1935] 0.364708152793333\n",
       "\\item[1936] 0.42653782397976\n",
       "\\item[1937] 0.398198312346429\n",
       "\\item[1938] 0.373411062784947\n",
       "\\item[1939] 0.4403871494244\n",
       "\\item[1940] 0.394902787769365\n",
       "\\item[1941] 0.357500146126813\n",
       "\\item[1942] 0.442414197295375\n",
       "\\item[1943] 0.296850971704071\n",
       "\\item[1944] 0.3861363005716\n",
       "\\item[1945] 0.391416176173733\n",
       "\\item[1946] 0.40849058767831\n",
       "\\item[1947] 0.396392403791982\n",
       "\\item[1948] 0.369570451716279\n",
       "\\item[1949] 0.4071056637482\n",
       "\\item[1950] 0.397193674828643\n",
       "\\item[1951] 0.428412985649851\n",
       "\\item[1952] 0.394422988781299\n",
       "\\item[1953] 0.399153188007391\n",
       "\\item[1954] 0.442476988010528\n",
       "\\item[1955] 0.417867359481855\n",
       "\\item[1956] 0.443344226270926\n",
       "\\item[1957] 0.445036599673503\n",
       "\\item[1958] 0.429891615104144\n",
       "\\item[1959] 0.434476820603922\n",
       "\\item[1960] 0.432792189327724\n",
       "\\item[1961] 0.408782255364133\n",
       "\\item[1962] 0.412774358407284\n",
       "\\item[1963] 0.402660096847895\n",
       "\\item[1964] 0.421651016381033\n",
       "\\item[1965] 0.430180908111156\n",
       "\\item[1966] 0.425972646131545\n",
       "\\item[1967] 0.433132377669957\n",
       "\\item[1968] 0.421452873893304\n",
       "\\item[1969] 0.416452964278683\n",
       "\\item[1970] 0.41933960295604\n",
       "\\item[1971] 0.425173392260905\n",
       "\\item[1972] 0.430047464977619\n",
       "\\item[1973] 0.426372395730349\n",
       "\\item[1974] 0.429465394751495\n",
       "\\item[1975] 0.421754652811927\n",
       "\\item[1976] 0.424824066381161\n",
       "\\item[1977] 0.432824481780444\n",
       "\\item[1978] 0.42792809838258\n",
       "\\item[1979] 0.426456010775481\n",
       "\\item[1980] 0.435480438432187\n",
       "\\item[1981] 0.428259218372182\n",
       "\\item[1982] 0.424597780333971\n",
       "\\item[1983] 0.43516110602717\n",
       "\\item[1984] 0.433778812635148\n",
       "\\item[1985] 0.431183546206452\n",
       "\\item[1986] 0.42560011231256\n",
       "\\item[1987] 0.425256814365375\n",
       "\\item[1988] 0.415739972261586\n",
       "\\item[1989] 0.41450927215403\n",
       "\\item[1990] 0.406745884703454\n",
       "\\item[1991] 0.409243655058462\n",
       "\\item[1992] 0.408436698539632\n",
       "\\item[1993] 0.405552478821774\n",
       "\\item[1994] 0.404908139050063\n",
       "\\item[1995] 0.406638627247008\n",
       "\\item[1996] 0.406552211299422\n",
       "\\item[1997] 0.404419158854459\n",
       "\\item[1998] 0.403608591230663\n",
       "\\item[1999] 0.408712442533208\n",
       "\\item[2000] 0.407121085656961\n",
       "\\item[2001] 0.407510681347504\n",
       "\\item[2002] 0.407257315769092\n",
       "\\item[2003] 0.417677604270494\n",
       "\\item[2004] 0.410729283068682\n",
       "\\item[2005] 0.409883488893155\n",
       "\\item[2006] 0.410067861575692\n",
       "\\item[2007] 0.422164939714901\n",
       "\\item[2008] 0.42743366213424\n",
       "\\item[2009] 0.433812244255591\n",
       "\\item[2010] 0.445675474053717\n",
       "\\item[2011] 0.532538585446\n",
       "\\end{description*}\n"
      ],
      "text/markdown": [
       "0\n",
       ":   0.3414902312760561922\n",
       ":   0.4039859138653331924\n",
       ":   0.29364385533421925\n",
       ":   0.3050340132422861926\n",
       ":   0.3341446895339471927\n",
       ":   0.3542266141363951928\n",
       ":   0.3751618327556151929\n",
       ":   0.3367470673482151930\n",
       ":   0.37872129865231931\n",
       ":   0.41047960525861932\n",
       ":   0.3747650919934551933\n",
       ":   0.3700032193468331934\n",
       ":   0.3582106442353451935\n",
       ":   0.3647081527933331936\n",
       ":   0.426537823979761937\n",
       ":   0.3981983123464291938\n",
       ":   0.3734110627849471939\n",
       ":   0.44038714942441940\n",
       ":   0.3949027877693651941\n",
       ":   0.3575001461268131942\n",
       ":   0.4424141972953751943\n",
       ":   0.2968509717040711944\n",
       ":   0.38613630057161945\n",
       ":   0.3914161761737331946\n",
       ":   0.408490587678311947\n",
       ":   0.3963924037919821948\n",
       ":   0.3695704517162791949\n",
       ":   0.40710566374821950\n",
       ":   0.3971936748286431951\n",
       ":   0.4284129856498511952\n",
       ":   0.3944229887812991953\n",
       ":   0.3991531880073911954\n",
       ":   0.4424769880105281955\n",
       ":   0.4178673594818551956\n",
       ":   0.4433442262709261957\n",
       ":   0.4450365996735031958\n",
       ":   0.4298916151041441959\n",
       ":   0.4344768206039221960\n",
       ":   0.4327921893277241961\n",
       ":   0.4087822553641331962\n",
       ":   0.4127743584072841963\n",
       ":   0.4026600968478951964\n",
       ":   0.4216510163810331965\n",
       ":   0.4301809081111561966\n",
       ":   0.4259726461315451967\n",
       ":   0.4331323776699571968\n",
       ":   0.4214528738933041969\n",
       ":   0.4164529642786831970\n",
       ":   0.419339602956041971\n",
       ":   0.4251733922609051972\n",
       ":   0.4300474649776191973\n",
       ":   0.4263723957303491974\n",
       ":   0.4294653947514951975\n",
       ":   0.4217546528119271976\n",
       ":   0.4248240663811611977\n",
       ":   0.4328244817804441978\n",
       ":   0.427928098382581979\n",
       ":   0.4264560107754811980\n",
       ":   0.4354804384321871981\n",
       ":   0.4282592183721821982\n",
       ":   0.4245977803339711983\n",
       ":   0.435161106027171984\n",
       ":   0.4337788126351481985\n",
       ":   0.4311835462064521986\n",
       ":   0.425600112312561987\n",
       ":   0.4252568143653751988\n",
       ":   0.4157399722615861989\n",
       ":   0.414509272154031990\n",
       ":   0.4067458847034541991\n",
       ":   0.4092436550584621992\n",
       ":   0.4084366985396321993\n",
       ":   0.4055524788217741994\n",
       ":   0.4049081390500631995\n",
       ":   0.4066386272470081996\n",
       ":   0.4065522112994221997\n",
       ":   0.4044191588544591998\n",
       ":   0.4036085912306631999\n",
       ":   0.4087124425332082000\n",
       ":   0.4071210856569612001\n",
       ":   0.4075106813475042002\n",
       ":   0.4072573157690922003\n",
       ":   0.4176776042704942004\n",
       ":   0.4107292830686822005\n",
       ":   0.4098834888931552006\n",
       ":   0.4100678615756922007\n",
       ":   0.4221649397149012008\n",
       ":   0.427433662134242009\n",
       ":   0.4338122442555912010\n",
       ":   0.4456754740537172011\n",
       ":   0.532538585446\n",
       "\n"
      ],
      "text/plain": [
       "        0      1922      1924      1925      1926      1927      1928      1929 \n",
       "0.3414902 0.4039859 0.2936439 0.3050340 0.3341447 0.3542266 0.3751618 0.3367471 \n",
       "     1930      1931      1932      1933      1934      1935      1936      1937 \n",
       "0.3787213 0.4104796 0.3747651 0.3700032 0.3582106 0.3647082 0.4265378 0.3981983 \n",
       "     1938      1939      1940      1941      1942      1943      1944      1945 \n",
       "0.3734111 0.4403871 0.3949028 0.3575001 0.4424142 0.2968510 0.3861363 0.3914162 \n",
       "     1946      1947      1948      1949      1950      1951      1952      1953 \n",
       "0.4084906 0.3963924 0.3695705 0.4071057 0.3971937 0.4284130 0.3944230 0.3991532 \n",
       "     1954      1955      1956      1957      1958      1959      1960      1961 \n",
       "0.4424770 0.4178674 0.4433442 0.4450366 0.4298916 0.4344768 0.4327922 0.4087823 \n",
       "     1962      1963      1964      1965      1966      1967      1968      1969 \n",
       "0.4127744 0.4026601 0.4216510 0.4301809 0.4259726 0.4331324 0.4214529 0.4164530 \n",
       "     1970      1971      1972      1973      1974      1975      1976      1977 \n",
       "0.4193396 0.4251734 0.4300475 0.4263724 0.4294654 0.4217547 0.4248241 0.4328245 \n",
       "     1978      1979      1980      1981      1982      1983      1984      1985 \n",
       "0.4279281 0.4264560 0.4354804 0.4282592 0.4245978 0.4351611 0.4337788 0.4311835 \n",
       "     1986      1987      1988      1989      1990      1991      1992      1993 \n",
       "0.4256001 0.4252568 0.4157400 0.4145093 0.4067459 0.4092437 0.4084367 0.4055525 \n",
       "     1994      1995      1996      1997      1998      1999      2000      2001 \n",
       "0.4049081 0.4066386 0.4065522 0.4044192 0.4036086 0.4087124 0.4071211 0.4075107 \n",
       "     2002      2003      2004      2005      2006      2007      2008      2009 \n",
       "0.4072573 0.4176776 0.4107293 0.4098835 0.4100679 0.4221649 0.4274337 0.4338122 \n",
       "     2010      2011 \n",
       "0.4456755 0.5325386 "
      ]
     },
     "metadata": {},
     "output_type": "display_data"
    }
   ],
   "source": [
    "tapply(tracks$artist_hotttnesss, tracks$year, mean)"
   ]
  },
  {
   "cell_type": "code",
   "execution_count": 42,
   "id": "434c277a-378a-482b-8725-f0557fd74882",
   "metadata": {},
   "outputs": [
    {
     "data": {
      "image/png": "[encoded data removed]",
      "text/plain": [
       "plot without title"
      ]
     },
     "metadata": {
      "image/png": {
       "height": 420,
       "width": 420
      }
     },
     "output_type": "display_data"
    }
   ],
   "source": [
    "plot(tapply(tracks$artist_hotttnesss, tracks$year, mean))"
   ]
  },
  {
   "cell_type": "markdown",
   "id": "860c10fc-253a-4ca5-b371-2ceaf0a607a2",
   "metadata": {},
   "source": [
    "The data is closer together in the later years maybe due to change in fashion"
   ]
  },
  {
   "cell_type": "markdown",
   "id": "f76442d6-d02e-4f26-b9d6-c3183e1d6929",
   "metadata": {},
   "source": [
    "## Pledge\n",
    "\n",
    "By submitting this work I hereby pledge that this is my own, personal work. I've acknowledged in the designated place at the top of this file all sources that I used to complete said work, including but not limited to: online resources, books, and electronic communications. I've noted all collaboration with fellow students and/or TA's. I did not copy or plagiarize another's work.\n",
    "\n",
    "> As a Boilermaker pursuing academic excellence, I pledge to be honest and true in all that I do. Accountable together – We are Purdue."
   ]
  }
 ],
 "metadata": {
  "kernelspec": {
   "display_name": "f2021-s2022-r",
   "language": "R",
   "name": "tdm-brown-scratch-f2021-s2022-r"
  },
  "language_info": {
   "codemirror_mode": "r",
   "file_extension": ".r",
   "mimetype": "text/x-r-source",
   "name": "R",
   "pygments_lexer": "r",
   "version": "4.0.0"
  }
 },
 "nbformat": 4,
 "nbformat_minor": 5
}
